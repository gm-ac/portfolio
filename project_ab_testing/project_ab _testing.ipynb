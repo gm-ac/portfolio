{
 "cells": [
  {
   "cell_type": "markdown",
   "id": "62e3c133-26b8-4066-b1c0-1db62394773a",
   "metadata": {},
   "source": [
    "# Приоритизация гипотез и анализ проведенного A/B теста  "
   ]
  },
  {
   "cell_type": "markdown",
   "id": "bbceaaed-e229-4170-9b60-98f67a605d2f",
   "metadata": {},
   "source": [
    "#### Описание проекта"
   ]
  },
  {
   "cell_type": "markdown",
   "id": "9bd938aa-8f34-47bf-8dfe-c4d4cfbc39d3",
   "metadata": {},
   "source": [
    "Необходимо проанализировать и приоритизировать несколько гипотез и <br>\n",
    "проанализировать результат проведенного интернет-магазином A/B теста.\n",
    "Дать рекомендации по результатам анализа<br>\n",
    "**Заказчик:** Крупный интеренет-магазин<br>\n",
    "**Цель:** Найти возможности для увеличения продаж<br>\n",
    "**Задачи:**\n",
    "1. Провести анализ и приоритизацию гипотез\n",
    "2. Проанализировать данные, полученные в ходе проведенного А/В теста\n",
    "3. Выявить динамику кумулятивной выручки, кумулятиного среднего чека, <br>\n",
    "   кумулятивного среднего кол-ва заказов, аномалии в данных.\n",
    "4. Визуализировать свои находки, полученныего в ходе анализа\n",
    "5. Оценить статистическую значимость различий в группах теста\n",
    "6. Дать заключение о результатах проведенного А/В теста\n",
    "\n",
    "Первое что мы сделаем - приоритизация гипотез, далее в ходе анализа А/В теста , так как о качестве данных ничего не известно, мы проверим данные на ошибки и оценим их влияние на исследование. Затем, на этапе предобработки мы поищем возможность исправить самые критичные ошибки данных. Затем проведем исследовательский анализ и закончим все выводами, полученными в ходе исследования. Таким образом исследование пройдет в четыре этапа:\n",
    "\n",
    "Приоритизация гипотез<br>\n",
    "Изучение данных полученных в ходе А/В теста<br>\n",
    "Предобработка данных<br>\n",
    "Исследовательский анализ"
   ]
  },
  {
   "cell_type": "markdown",
   "id": "62d57483-5c33-42a8-abb9-c1cb6e026da6",
   "metadata": {},
   "source": [
    "<a id= 'section1'></a>\n",
    "\n",
    "**ОГЛАВЛЕНИЕ**\n",
    "<br>\n",
    "<b>[1.1 Приоритизация гипотез](#prioritization)<br>\n",
    "[1.2. Анализ А/В теста](#ABtesting)<br>\n",
    "    &emsp;*[1.2.1. Изучение данных](#observing)*<br>\n",
    "    &emsp;*[1.2.2. Предобработка данных](#preparation)*<br>\n",
    "    &emsp;*[1.2.3. Исследовательский анализ](#reseaching)*<br>\n",
    "        &emsp;&emsp;-[1.2.3.1. График кумулятивной выручки по группам](#cum_revenue_plot)<br>\n",
    "        &emsp;&emsp;-[1.2.3.2. График кумулятивного среднего чека по группам](#cum_avg_price_plot)<br>\n",
    "        &emsp;&emsp;-[1.2.3.3. График относительного изменения кумулятивного среднего чека](#rel_avg_plot)<br>\n",
    "        &emsp;&emsp;-[1.2.3.4. График кумулятивного среднего кол-ва заказов](#cum_avg_order_qty_plot)<br>\n",
    "        &emsp;&emsp;-[1.2.3.5. График относительного изменения кумулятивного среднего кол-ва заказов](#rel_cum_avg_order_qty)<br>\n",
    "        &emsp;&emsp;-[1.2.3.6. Точечный график кол-ва заказов по пользователям](#order_qty_scatter_plot)<br>\n",
    "        &emsp;&emsp;-[1.2.3.7. 95-й и 99-й перцентили кол-ва заказов на пользователя](#orders_percentiles)<br>\n",
    "        &emsp;&emsp;-[1.2.3.8. Точечный график стоимостей заказов](#order_price_scatter_plot)<br>\n",
    "        &emsp;&emsp;-[1.2.3.9. 95-й и 99-й перцентили стоимости заказов](#order_price_percentiles)<br>\n",
    "        &emsp;&emsp;-[1.2.3.10. Статистическая значимость различий между группами по \"сырым\" данным](#raw_data)<br>\n",
    "        &emsp;&emsp;&emsp;&emsp;a.[1.2.3.10.1. Расчет значения p-value для заказов](#p_orders_calc)<br>\n",
    "        &emsp;&emsp;&emsp;&emsp;b.[1.2.3.10.2. Расчет значения p-value для средних чеков](#p_avg_calc)<br>\n",
    "        &emsp;&emsp;-[1.2.3.11. Статистическая значимость различий между группами по \"очищенным\" данным](#clean_data)<br>\n",
    "        &emsp;&emsp;&emsp;&emsp;a.[1.2.3.11.1. Расчет значения p-value для заказов](#p_orders_calc2)<br>\n",
    "        &emsp;&emsp;&emsp;&emsp;b.[1.2.3.11.2. Расчет значения p-value для средних чеков](#p_avg_calc2)<br>\n",
    "    &emsp;*[1.2.4. Итоги А/В теста](#resume)*<br>\n",
    "[1.3. Общие выводы](#general_resume)"
   ]
  },
  {
   "cell_type": "code",
   "execution_count": 1,
   "id": "15e71fe6-4838-4f9f-91c2-0d43f1406d91",
   "metadata": {},
   "outputs": [],
   "source": [
    "import datetime as dt\n",
    "import matplotlib.pyplot as plt\n",
    "import numpy as np\n",
    "import pandas as pd\n",
    "from scipy import stats as st"
   ]
  },
  {
   "cell_type": "code",
   "execution_count": 2,
   "id": "f84e80c4-1ec8-4654-894e-e254a7a89c0c",
   "metadata": {},
   "outputs": [],
   "source": [
    "pd.set_option(\"display.float_format\", \"{:.2f}\".format)"
   ]
  },
  {
   "cell_type": "markdown",
   "id": "72720e6c-db34-4f01-9281-7e9f72d22cee",
   "metadata": {},
   "source": [
    "<a id=\"prioritization\"> </a>\n",
    "## Приоритизация гипотез.\n",
    "<a href=\"#section1\">Оглавление</a>"
   ]
  },
  {
   "cell_type": "markdown",
   "id": "430745ff-69ec-4dc6-bb5f-f40211209b37",
   "metadata": {},
   "source": [
    "Прочитаем данные из файла:"
   ]
  },
  {
   "cell_type": "code",
   "execution_count": 3,
   "id": "8065f03c-ef27-424d-9a93-95e17f0b108a",
   "metadata": {},
   "outputs": [],
   "source": [
    "try:\n",
    "    data = pd.read_csv('/datasets/hypothesis.csv')\n",
    "except:\n",
    "    data = pd.read_csv('hypothesis.csv')"
   ]
  },
  {
   "cell_type": "markdown",
   "id": "dfa388eb-ac43-484d-bfc1-f8726d0a8dfc",
   "metadata": {},
   "source": [
    "Посмотрим на данные:"
   ]
  },
  {
   "cell_type": "code",
   "execution_count": 4,
   "id": "f41d8bf1-b696-4035-8283-aecf611cae94",
   "metadata": {},
   "outputs": [
    {
     "data": {
      "text/html": [
       "<div>\n",
       "<style scoped>\n",
       "    .dataframe tbody tr th:only-of-type {\n",
       "        vertical-align: middle;\n",
       "    }\n",
       "\n",
       "    .dataframe tbody tr th {\n",
       "        vertical-align: top;\n",
       "    }\n",
       "\n",
       "    .dataframe thead th {\n",
       "        text-align: right;\n",
       "    }\n",
       "</style>\n",
       "<table border=\"1\" class=\"dataframe\">\n",
       "  <thead>\n",
       "    <tr style=\"text-align: right;\">\n",
       "      <th></th>\n",
       "      <th>Hypothesis</th>\n",
       "      <th>Reach</th>\n",
       "      <th>Impact</th>\n",
       "      <th>Confidence</th>\n",
       "      <th>Efforts</th>\n",
       "    </tr>\n",
       "  </thead>\n",
       "  <tbody>\n",
       "    <tr>\n",
       "      <th>0</th>\n",
       "      <td>Добавить два новых канала привлечения трафика,...</td>\n",
       "      <td>3</td>\n",
       "      <td>10</td>\n",
       "      <td>8</td>\n",
       "      <td>6</td>\n",
       "    </tr>\n",
       "    <tr>\n",
       "      <th>1</th>\n",
       "      <td>Запустить собственную службу доставки, что сок...</td>\n",
       "      <td>2</td>\n",
       "      <td>5</td>\n",
       "      <td>4</td>\n",
       "      <td>10</td>\n",
       "    </tr>\n",
       "    <tr>\n",
       "      <th>2</th>\n",
       "      <td>Добавить блоки рекомендаций товаров на сайт ин...</td>\n",
       "      <td>8</td>\n",
       "      <td>3</td>\n",
       "      <td>7</td>\n",
       "      <td>3</td>\n",
       "    </tr>\n",
       "    <tr>\n",
       "      <th>3</th>\n",
       "      <td>Изменить структура категорий, что увеличит кон...</td>\n",
       "      <td>8</td>\n",
       "      <td>3</td>\n",
       "      <td>3</td>\n",
       "      <td>8</td>\n",
       "    </tr>\n",
       "    <tr>\n",
       "      <th>4</th>\n",
       "      <td>Изменить цвет фона главной страницы, чтобы уве...</td>\n",
       "      <td>3</td>\n",
       "      <td>1</td>\n",
       "      <td>1</td>\n",
       "      <td>1</td>\n",
       "    </tr>\n",
       "    <tr>\n",
       "      <th>5</th>\n",
       "      <td>Добавить страницу отзывов клиентов о магазине,...</td>\n",
       "      <td>3</td>\n",
       "      <td>2</td>\n",
       "      <td>2</td>\n",
       "      <td>3</td>\n",
       "    </tr>\n",
       "    <tr>\n",
       "      <th>6</th>\n",
       "      <td>Показать на главной странице баннеры с актуаль...</td>\n",
       "      <td>5</td>\n",
       "      <td>3</td>\n",
       "      <td>8</td>\n",
       "      <td>3</td>\n",
       "    </tr>\n",
       "    <tr>\n",
       "      <th>7</th>\n",
       "      <td>Добавить форму подписки на все основные страни...</td>\n",
       "      <td>10</td>\n",
       "      <td>7</td>\n",
       "      <td>8</td>\n",
       "      <td>5</td>\n",
       "    </tr>\n",
       "    <tr>\n",
       "      <th>8</th>\n",
       "      <td>Запустить акцию, дающую скидку на товар в день...</td>\n",
       "      <td>1</td>\n",
       "      <td>9</td>\n",
       "      <td>9</td>\n",
       "      <td>5</td>\n",
       "    </tr>\n",
       "  </tbody>\n",
       "</table>\n",
       "</div>"
      ],
      "text/plain": [
       "                                          Hypothesis  Reach  Impact  \\\n",
       "0  Добавить два новых канала привлечения трафика,...      3      10   \n",
       "1  Запустить собственную службу доставки, что сок...      2       5   \n",
       "2  Добавить блоки рекомендаций товаров на сайт ин...      8       3   \n",
       "3  Изменить структура категорий, что увеличит кон...      8       3   \n",
       "4  Изменить цвет фона главной страницы, чтобы уве...      3       1   \n",
       "5  Добавить страницу отзывов клиентов о магазине,...      3       2   \n",
       "6  Показать на главной странице баннеры с актуаль...      5       3   \n",
       "7  Добавить форму подписки на все основные страни...     10       7   \n",
       "8  Запустить акцию, дающую скидку на товар в день...      1       9   \n",
       "\n",
       "   Confidence  Efforts  \n",
       "0           8        6  \n",
       "1           4       10  \n",
       "2           7        3  \n",
       "3           3        8  \n",
       "4           1        1  \n",
       "5           2        3  \n",
       "6           8        3  \n",
       "7           8        5  \n",
       "8           9        5  "
      ]
     },
     "execution_count": 4,
     "metadata": {},
     "output_type": "execute_result"
    }
   ],
   "source": [
    "data"
   ]
  },
  {
   "cell_type": "markdown",
   "id": "86a1fcc1-3f63-41b2-8c24-8b938c8c4246",
   "metadata": {},
   "source": [
    "Напишем функцию подсветки максимального значения в столбце:"
   ]
  },
  {
   "cell_type": "markdown",
   "id": "27d42510-e40b-4229-bf06-68b83d7805df",
   "metadata": {},
   "source": [
    "Приоритезируем гипотезы по методу \"ICE\":"
   ]
  },
  {
   "cell_type": "code",
   "execution_count": 5,
   "id": "fce722f2-a95f-4b5c-a364-fc70c9eacfc5",
   "metadata": {},
   "outputs": [
    {
     "data": {
      "text/html": [
       "<style type=\"text/css\">\n",
       "#T_4e66e_row0_col5 {\n",
       "  background-color: palegreen;\n",
       "}\n",
       "</style>\n",
       "<table id=\"T_4e66e\">\n",
       "  <thead>\n",
       "    <tr>\n",
       "      <th class=\"blank level0\" >&nbsp;</th>\n",
       "      <th id=\"T_4e66e_level0_col0\" class=\"col_heading level0 col0\" >Hypothesis</th>\n",
       "      <th id=\"T_4e66e_level0_col1\" class=\"col_heading level0 col1\" >Reach</th>\n",
       "      <th id=\"T_4e66e_level0_col2\" class=\"col_heading level0 col2\" >Impact</th>\n",
       "      <th id=\"T_4e66e_level0_col3\" class=\"col_heading level0 col3\" >Confidence</th>\n",
       "      <th id=\"T_4e66e_level0_col4\" class=\"col_heading level0 col4\" >Efforts</th>\n",
       "      <th id=\"T_4e66e_level0_col5\" class=\"col_heading level0 col5\" >ICE</th>\n",
       "    </tr>\n",
       "  </thead>\n",
       "  <tbody>\n",
       "    <tr>\n",
       "      <th id=\"T_4e66e_level0_row0\" class=\"row_heading level0 row0\" >8</th>\n",
       "      <td id=\"T_4e66e_row0_col0\" class=\"data row0 col0\" >Запустить акцию, дающую скидку на товар в день рождения</td>\n",
       "      <td id=\"T_4e66e_row0_col1\" class=\"data row0 col1\" >1</td>\n",
       "      <td id=\"T_4e66e_row0_col2\" class=\"data row0 col2\" >9</td>\n",
       "      <td id=\"T_4e66e_row0_col3\" class=\"data row0 col3\" >9</td>\n",
       "      <td id=\"T_4e66e_row0_col4\" class=\"data row0 col4\" >5</td>\n",
       "      <td id=\"T_4e66e_row0_col5\" class=\"data row0 col5\" >16.20</td>\n",
       "    </tr>\n",
       "    <tr>\n",
       "      <th id=\"T_4e66e_level0_row1\" class=\"row_heading level0 row1\" >0</th>\n",
       "      <td id=\"T_4e66e_row1_col0\" class=\"data row1 col0\" >Добавить два новых канала привлечения трафика, что позволит привлекать на 30% больше пользователей</td>\n",
       "      <td id=\"T_4e66e_row1_col1\" class=\"data row1 col1\" >3</td>\n",
       "      <td id=\"T_4e66e_row1_col2\" class=\"data row1 col2\" >10</td>\n",
       "      <td id=\"T_4e66e_row1_col3\" class=\"data row1 col3\" >8</td>\n",
       "      <td id=\"T_4e66e_row1_col4\" class=\"data row1 col4\" >6</td>\n",
       "      <td id=\"T_4e66e_row1_col5\" class=\"data row1 col5\" >13.33</td>\n",
       "    </tr>\n",
       "    <tr>\n",
       "      <th id=\"T_4e66e_level0_row2\" class=\"row_heading level0 row2\" >7</th>\n",
       "      <td id=\"T_4e66e_row2_col0\" class=\"data row2 col0\" >Добавить форму подписки на все основные страницы, чтобы собрать базу клиентов для email-рассылок</td>\n",
       "      <td id=\"T_4e66e_row2_col1\" class=\"data row2 col1\" >10</td>\n",
       "      <td id=\"T_4e66e_row2_col2\" class=\"data row2 col2\" >7</td>\n",
       "      <td id=\"T_4e66e_row2_col3\" class=\"data row2 col3\" >8</td>\n",
       "      <td id=\"T_4e66e_row2_col4\" class=\"data row2 col4\" >5</td>\n",
       "      <td id=\"T_4e66e_row2_col5\" class=\"data row2 col5\" >11.20</td>\n",
       "    </tr>\n",
       "    <tr>\n",
       "      <th id=\"T_4e66e_level0_row3\" class=\"row_heading level0 row3\" >6</th>\n",
       "      <td id=\"T_4e66e_row3_col0\" class=\"data row3 col0\" >Показать на главной странице баннеры с актуальными акциями и распродажами, чтобы увеличить конверсию</td>\n",
       "      <td id=\"T_4e66e_row3_col1\" class=\"data row3 col1\" >5</td>\n",
       "      <td id=\"T_4e66e_row3_col2\" class=\"data row3 col2\" >3</td>\n",
       "      <td id=\"T_4e66e_row3_col3\" class=\"data row3 col3\" >8</td>\n",
       "      <td id=\"T_4e66e_row3_col4\" class=\"data row3 col4\" >3</td>\n",
       "      <td id=\"T_4e66e_row3_col5\" class=\"data row3 col5\" >8.00</td>\n",
       "    </tr>\n",
       "    <tr>\n",
       "      <th id=\"T_4e66e_level0_row4\" class=\"row_heading level0 row4\" >2</th>\n",
       "      <td id=\"T_4e66e_row4_col0\" class=\"data row4 col0\" >Добавить блоки рекомендаций товаров на сайт интернет магазина, чтобы повысить конверсию и средний чек заказа</td>\n",
       "      <td id=\"T_4e66e_row4_col1\" class=\"data row4 col1\" >8</td>\n",
       "      <td id=\"T_4e66e_row4_col2\" class=\"data row4 col2\" >3</td>\n",
       "      <td id=\"T_4e66e_row4_col3\" class=\"data row4 col3\" >7</td>\n",
       "      <td id=\"T_4e66e_row4_col4\" class=\"data row4 col4\" >3</td>\n",
       "      <td id=\"T_4e66e_row4_col5\" class=\"data row4 col5\" >7.00</td>\n",
       "    </tr>\n",
       "    <tr>\n",
       "      <th id=\"T_4e66e_level0_row5\" class=\"row_heading level0 row5\" >1</th>\n",
       "      <td id=\"T_4e66e_row5_col0\" class=\"data row5 col0\" >Запустить собственную службу доставки, что сократит срок доставки заказов</td>\n",
       "      <td id=\"T_4e66e_row5_col1\" class=\"data row5 col1\" >2</td>\n",
       "      <td id=\"T_4e66e_row5_col2\" class=\"data row5 col2\" >5</td>\n",
       "      <td id=\"T_4e66e_row5_col3\" class=\"data row5 col3\" >4</td>\n",
       "      <td id=\"T_4e66e_row5_col4\" class=\"data row5 col4\" >10</td>\n",
       "      <td id=\"T_4e66e_row5_col5\" class=\"data row5 col5\" >2.00</td>\n",
       "    </tr>\n",
       "    <tr>\n",
       "      <th id=\"T_4e66e_level0_row6\" class=\"row_heading level0 row6\" >5</th>\n",
       "      <td id=\"T_4e66e_row6_col0\" class=\"data row6 col0\" >Добавить страницу отзывов клиентов о магазине, что позволит увеличить количество заказов</td>\n",
       "      <td id=\"T_4e66e_row6_col1\" class=\"data row6 col1\" >3</td>\n",
       "      <td id=\"T_4e66e_row6_col2\" class=\"data row6 col2\" >2</td>\n",
       "      <td id=\"T_4e66e_row6_col3\" class=\"data row6 col3\" >2</td>\n",
       "      <td id=\"T_4e66e_row6_col4\" class=\"data row6 col4\" >3</td>\n",
       "      <td id=\"T_4e66e_row6_col5\" class=\"data row6 col5\" >1.33</td>\n",
       "    </tr>\n",
       "    <tr>\n",
       "      <th id=\"T_4e66e_level0_row7\" class=\"row_heading level0 row7\" >3</th>\n",
       "      <td id=\"T_4e66e_row7_col0\" class=\"data row7 col0\" >Изменить структура категорий, что увеличит конверсию, т.к. пользователи быстрее найдут нужный товар</td>\n",
       "      <td id=\"T_4e66e_row7_col1\" class=\"data row7 col1\" >8</td>\n",
       "      <td id=\"T_4e66e_row7_col2\" class=\"data row7 col2\" >3</td>\n",
       "      <td id=\"T_4e66e_row7_col3\" class=\"data row7 col3\" >3</td>\n",
       "      <td id=\"T_4e66e_row7_col4\" class=\"data row7 col4\" >8</td>\n",
       "      <td id=\"T_4e66e_row7_col5\" class=\"data row7 col5\" >1.12</td>\n",
       "    </tr>\n",
       "    <tr>\n",
       "      <th id=\"T_4e66e_level0_row8\" class=\"row_heading level0 row8\" >4</th>\n",
       "      <td id=\"T_4e66e_row8_col0\" class=\"data row8 col0\" >Изменить цвет фона главной страницы, чтобы увеличить вовлеченность пользователей</td>\n",
       "      <td id=\"T_4e66e_row8_col1\" class=\"data row8 col1\" >3</td>\n",
       "      <td id=\"T_4e66e_row8_col2\" class=\"data row8 col2\" >1</td>\n",
       "      <td id=\"T_4e66e_row8_col3\" class=\"data row8 col3\" >1</td>\n",
       "      <td id=\"T_4e66e_row8_col4\" class=\"data row8 col4\" >1</td>\n",
       "      <td id=\"T_4e66e_row8_col5\" class=\"data row8 col5\" >1.00</td>\n",
       "    </tr>\n",
       "  </tbody>\n",
       "</table>\n"
      ],
      "text/plain": [
       "<pandas.io.formats.style.Styler at 0x1f7bb3037c0>"
      ]
     },
     "execution_count": 5,
     "metadata": {},
     "output_type": "execute_result"
    }
   ],
   "source": [
    "data['ICE'] = (data['Impact'] * data['Confidence'] / data['Efforts']).round(2)\n",
    "data_sorted = data.sort_values(by='ICE', ascending=False)\n",
    "data_sorted.style.highlight_max(subset=['ICE'], color='palegreen',axis=0).format('{:.2f}', subset=['ICE'])"
   ]
  },
  {
   "cell_type": "markdown",
   "id": "e67ce1cd-ab25-4575-b5b8-5786d1c2d5c7",
   "metadata": {},
   "source": [
    "Мы видим, что максимальное кол-во очков набрала гипотеза номер 8 и она заняла первое место.\n",
    "\n",
    "Приоритизируем гипотезы по методу \"RICE\":"
   ]
  },
  {
   "cell_type": "code",
   "execution_count": 6,
   "id": "4a74942b-d2d8-421b-a860-baa37b2bf116",
   "metadata": {},
   "outputs": [
    {
     "data": {
      "text/html": [
       "<style type=\"text/css\">\n",
       "#T_07263_row0_col6, #T_07263_row4_col5 {\n",
       "  background-color: palegreen;\n",
       "}\n",
       "</style>\n",
       "<table id=\"T_07263\">\n",
       "  <thead>\n",
       "    <tr>\n",
       "      <th class=\"blank level0\" >&nbsp;</th>\n",
       "      <th id=\"T_07263_level0_col0\" class=\"col_heading level0 col0\" >Hypothesis</th>\n",
       "      <th id=\"T_07263_level0_col1\" class=\"col_heading level0 col1\" >Reach</th>\n",
       "      <th id=\"T_07263_level0_col2\" class=\"col_heading level0 col2\" >Impact</th>\n",
       "      <th id=\"T_07263_level0_col3\" class=\"col_heading level0 col3\" >Confidence</th>\n",
       "      <th id=\"T_07263_level0_col4\" class=\"col_heading level0 col4\" >Efforts</th>\n",
       "      <th id=\"T_07263_level0_col5\" class=\"col_heading level0 col5\" >ICE</th>\n",
       "      <th id=\"T_07263_level0_col6\" class=\"col_heading level0 col6\" >RICE</th>\n",
       "    </tr>\n",
       "  </thead>\n",
       "  <tbody>\n",
       "    <tr>\n",
       "      <th id=\"T_07263_level0_row0\" class=\"row_heading level0 row0\" >7</th>\n",
       "      <td id=\"T_07263_row0_col0\" class=\"data row0 col0\" >Добавить форму подписки на все основные страницы, чтобы собрать базу клиентов для email-рассылок</td>\n",
       "      <td id=\"T_07263_row0_col1\" class=\"data row0 col1\" >10</td>\n",
       "      <td id=\"T_07263_row0_col2\" class=\"data row0 col2\" >7</td>\n",
       "      <td id=\"T_07263_row0_col3\" class=\"data row0 col3\" >8</td>\n",
       "      <td id=\"T_07263_row0_col4\" class=\"data row0 col4\" >5</td>\n",
       "      <td id=\"T_07263_row0_col5\" class=\"data row0 col5\" >11.20</td>\n",
       "      <td id=\"T_07263_row0_col6\" class=\"data row0 col6\" >112.00</td>\n",
       "    </tr>\n",
       "    <tr>\n",
       "      <th id=\"T_07263_level0_row1\" class=\"row_heading level0 row1\" >2</th>\n",
       "      <td id=\"T_07263_row1_col0\" class=\"data row1 col0\" >Добавить блоки рекомендаций товаров на сайт интернет магазина, чтобы повысить конверсию и средний чек заказа</td>\n",
       "      <td id=\"T_07263_row1_col1\" class=\"data row1 col1\" >8</td>\n",
       "      <td id=\"T_07263_row1_col2\" class=\"data row1 col2\" >3</td>\n",
       "      <td id=\"T_07263_row1_col3\" class=\"data row1 col3\" >7</td>\n",
       "      <td id=\"T_07263_row1_col4\" class=\"data row1 col4\" >3</td>\n",
       "      <td id=\"T_07263_row1_col5\" class=\"data row1 col5\" >7.00</td>\n",
       "      <td id=\"T_07263_row1_col6\" class=\"data row1 col6\" >56.00</td>\n",
       "    </tr>\n",
       "    <tr>\n",
       "      <th id=\"T_07263_level0_row2\" class=\"row_heading level0 row2\" >0</th>\n",
       "      <td id=\"T_07263_row2_col0\" class=\"data row2 col0\" >Добавить два новых канала привлечения трафика, что позволит привлекать на 30% больше пользователей</td>\n",
       "      <td id=\"T_07263_row2_col1\" class=\"data row2 col1\" >3</td>\n",
       "      <td id=\"T_07263_row2_col2\" class=\"data row2 col2\" >10</td>\n",
       "      <td id=\"T_07263_row2_col3\" class=\"data row2 col3\" >8</td>\n",
       "      <td id=\"T_07263_row2_col4\" class=\"data row2 col4\" >6</td>\n",
       "      <td id=\"T_07263_row2_col5\" class=\"data row2 col5\" >13.33</td>\n",
       "      <td id=\"T_07263_row2_col6\" class=\"data row2 col6\" >40.00</td>\n",
       "    </tr>\n",
       "    <tr>\n",
       "      <th id=\"T_07263_level0_row3\" class=\"row_heading level0 row3\" >6</th>\n",
       "      <td id=\"T_07263_row3_col0\" class=\"data row3 col0\" >Показать на главной странице баннеры с актуальными акциями и распродажами, чтобы увеличить конверсию</td>\n",
       "      <td id=\"T_07263_row3_col1\" class=\"data row3 col1\" >5</td>\n",
       "      <td id=\"T_07263_row3_col2\" class=\"data row3 col2\" >3</td>\n",
       "      <td id=\"T_07263_row3_col3\" class=\"data row3 col3\" >8</td>\n",
       "      <td id=\"T_07263_row3_col4\" class=\"data row3 col4\" >3</td>\n",
       "      <td id=\"T_07263_row3_col5\" class=\"data row3 col5\" >8.00</td>\n",
       "      <td id=\"T_07263_row3_col6\" class=\"data row3 col6\" >40.00</td>\n",
       "    </tr>\n",
       "    <tr>\n",
       "      <th id=\"T_07263_level0_row4\" class=\"row_heading level0 row4\" >8</th>\n",
       "      <td id=\"T_07263_row4_col0\" class=\"data row4 col0\" >Запустить акцию, дающую скидку на товар в день рождения</td>\n",
       "      <td id=\"T_07263_row4_col1\" class=\"data row4 col1\" >1</td>\n",
       "      <td id=\"T_07263_row4_col2\" class=\"data row4 col2\" >9</td>\n",
       "      <td id=\"T_07263_row4_col3\" class=\"data row4 col3\" >9</td>\n",
       "      <td id=\"T_07263_row4_col4\" class=\"data row4 col4\" >5</td>\n",
       "      <td id=\"T_07263_row4_col5\" class=\"data row4 col5\" >16.20</td>\n",
       "      <td id=\"T_07263_row4_col6\" class=\"data row4 col6\" >16.20</td>\n",
       "    </tr>\n",
       "    <tr>\n",
       "      <th id=\"T_07263_level0_row5\" class=\"row_heading level0 row5\" >3</th>\n",
       "      <td id=\"T_07263_row5_col0\" class=\"data row5 col0\" >Изменить структура категорий, что увеличит конверсию, т.к. пользователи быстрее найдут нужный товар</td>\n",
       "      <td id=\"T_07263_row5_col1\" class=\"data row5 col1\" >8</td>\n",
       "      <td id=\"T_07263_row5_col2\" class=\"data row5 col2\" >3</td>\n",
       "      <td id=\"T_07263_row5_col3\" class=\"data row5 col3\" >3</td>\n",
       "      <td id=\"T_07263_row5_col4\" class=\"data row5 col4\" >8</td>\n",
       "      <td id=\"T_07263_row5_col5\" class=\"data row5 col5\" >1.12</td>\n",
       "      <td id=\"T_07263_row5_col6\" class=\"data row5 col6\" >9.00</td>\n",
       "    </tr>\n",
       "    <tr>\n",
       "      <th id=\"T_07263_level0_row6\" class=\"row_heading level0 row6\" >1</th>\n",
       "      <td id=\"T_07263_row6_col0\" class=\"data row6 col0\" >Запустить собственную службу доставки, что сократит срок доставки заказов</td>\n",
       "      <td id=\"T_07263_row6_col1\" class=\"data row6 col1\" >2</td>\n",
       "      <td id=\"T_07263_row6_col2\" class=\"data row6 col2\" >5</td>\n",
       "      <td id=\"T_07263_row6_col3\" class=\"data row6 col3\" >4</td>\n",
       "      <td id=\"T_07263_row6_col4\" class=\"data row6 col4\" >10</td>\n",
       "      <td id=\"T_07263_row6_col5\" class=\"data row6 col5\" >2.00</td>\n",
       "      <td id=\"T_07263_row6_col6\" class=\"data row6 col6\" >4.00</td>\n",
       "    </tr>\n",
       "    <tr>\n",
       "      <th id=\"T_07263_level0_row7\" class=\"row_heading level0 row7\" >5</th>\n",
       "      <td id=\"T_07263_row7_col0\" class=\"data row7 col0\" >Добавить страницу отзывов клиентов о магазине, что позволит увеличить количество заказов</td>\n",
       "      <td id=\"T_07263_row7_col1\" class=\"data row7 col1\" >3</td>\n",
       "      <td id=\"T_07263_row7_col2\" class=\"data row7 col2\" >2</td>\n",
       "      <td id=\"T_07263_row7_col3\" class=\"data row7 col3\" >2</td>\n",
       "      <td id=\"T_07263_row7_col4\" class=\"data row7 col4\" >3</td>\n",
       "      <td id=\"T_07263_row7_col5\" class=\"data row7 col5\" >1.33</td>\n",
       "      <td id=\"T_07263_row7_col6\" class=\"data row7 col6\" >4.00</td>\n",
       "    </tr>\n",
       "    <tr>\n",
       "      <th id=\"T_07263_level0_row8\" class=\"row_heading level0 row8\" >4</th>\n",
       "      <td id=\"T_07263_row8_col0\" class=\"data row8 col0\" >Изменить цвет фона главной страницы, чтобы увеличить вовлеченность пользователей</td>\n",
       "      <td id=\"T_07263_row8_col1\" class=\"data row8 col1\" >3</td>\n",
       "      <td id=\"T_07263_row8_col2\" class=\"data row8 col2\" >1</td>\n",
       "      <td id=\"T_07263_row8_col3\" class=\"data row8 col3\" >1</td>\n",
       "      <td id=\"T_07263_row8_col4\" class=\"data row8 col4\" >1</td>\n",
       "      <td id=\"T_07263_row8_col5\" class=\"data row8 col5\" >1.00</td>\n",
       "      <td id=\"T_07263_row8_col6\" class=\"data row8 col6\" >3.00</td>\n",
       "    </tr>\n",
       "  </tbody>\n",
       "</table>\n"
      ],
      "text/plain": [
       "<pandas.io.formats.style.Styler at 0x1f7bb4e2d40>"
      ]
     },
     "execution_count": 6,
     "metadata": {},
     "output_type": "execute_result"
    }
   ],
   "source": [
    "data['RICE'] = data['Reach'] * data['Impact'] * data['Confidence'] / data['Efforts']\n",
    "data_sorted = data.sort_values(by='RICE', ascending=False)\n",
    "data_sorted.style.highlight_max(subset=['ICE','RICE'], color='palegreen',axis=0).format('{:.2f}', subset=['ICE','RICE'])"
   ]
  },
  {
   "cell_type": "markdown",
   "id": "ef066a1e-9a2e-46da-91b0-f67efa73a414",
   "metadata": {},
   "source": [
    "После применения метода \"RICE\" лидер сменился. Новый лидер среди гипотез - гипотеза:'Добавить форму подписки на все основные страницы, чтобы собрать базу клиентов для email-рассылок\t'. Наш прежний лидер - гипотеза:'Запустить акцию, дающую скидку на товар в день рождения' откатилась на 5 место. Причина этого высокое значение гипотезы-лидера в столбце \"Reach\" - охват - значение 10. В то время как у гипотезы 'Запустить акцию, дающую скидку на товар в день рождения' значение \"Reach\" всего лишь 1. Таким образом наивысший приоритет среди всех гипотез имеет гипотеза с самым широким охватом аудитории."
   ]
  },
  {
   "cell_type": "markdown",
   "id": "66a76e97-4044-4f61-99bd-97b1d3492644",
   "metadata": {},
   "source": [
    "<a id=\"ABtesting\"> </a>\n",
    "## Анализ A/B-теста\n",
    "<a href=\"#section1\">Оглавление</a>"
   ]
  },
  {
   "cell_type": "markdown",
   "id": "3391f9b9-30fe-4e9d-9976-7923c116e796",
   "metadata": {},
   "source": [
    "<a id=\"observing\"> </a>\n",
    "### Изучение данных\n",
    "<a href=\"#section1\">Оглавление</a>"
   ]
  },
  {
   "cell_type": "markdown",
   "id": "252e809f-b297-404c-8fb0-5a3952ecafe8",
   "metadata": {},
   "source": [
    "Прочитаем данные из файлов:"
   ]
  },
  {
   "cell_type": "code",
   "execution_count": 7,
   "id": "ed72e2e2-685d-4384-b0f3-5d832872b1cd",
   "metadata": {},
   "outputs": [],
   "source": [
    "try:\n",
    "    df_ord = pd.read_csv('/datasets/orders.csv')\n",
    "    df_vis = pd.read_csv('/datasets/visitors.csv')\n",
    "except:\n",
    "    df_ord = pd.read_csv('orders.csv')\n",
    "    df_vis = pd.read_csv('visitors.csv')"
   ]
  },
  {
   "cell_type": "markdown",
   "id": "b398cb71-2832-4adb-b383-09affffe16d6",
   "metadata": {},
   "source": [
    "Посмотрим что данные из себя представляют:"
   ]
  },
  {
   "cell_type": "code",
   "execution_count": 8,
   "id": "47492de5-a227-4fce-b073-ebe373a6e826",
   "metadata": {},
   "outputs": [
    {
     "data": {
      "text/html": [
       "<div>\n",
       "<style scoped>\n",
       "    .dataframe tbody tr th:only-of-type {\n",
       "        vertical-align: middle;\n",
       "    }\n",
       "\n",
       "    .dataframe tbody tr th {\n",
       "        vertical-align: top;\n",
       "    }\n",
       "\n",
       "    .dataframe thead th {\n",
       "        text-align: right;\n",
       "    }\n",
       "</style>\n",
       "<table border=\"1\" class=\"dataframe\">\n",
       "  <thead>\n",
       "    <tr style=\"text-align: right;\">\n",
       "      <th></th>\n",
       "      <th>transactionId</th>\n",
       "      <th>visitorId</th>\n",
       "      <th>date</th>\n",
       "      <th>revenue</th>\n",
       "      <th>group</th>\n",
       "    </tr>\n",
       "  </thead>\n",
       "  <tbody>\n",
       "    <tr>\n",
       "      <th>0</th>\n",
       "      <td>3667963787</td>\n",
       "      <td>3312258926</td>\n",
       "      <td>2019-08-15</td>\n",
       "      <td>1650</td>\n",
       "      <td>B</td>\n",
       "    </tr>\n",
       "    <tr>\n",
       "      <th>1</th>\n",
       "      <td>2804400009</td>\n",
       "      <td>3642806036</td>\n",
       "      <td>2019-08-15</td>\n",
       "      <td>730</td>\n",
       "      <td>B</td>\n",
       "    </tr>\n",
       "    <tr>\n",
       "      <th>2</th>\n",
       "      <td>2961555356</td>\n",
       "      <td>4069496402</td>\n",
       "      <td>2019-08-15</td>\n",
       "      <td>400</td>\n",
       "      <td>A</td>\n",
       "    </tr>\n",
       "    <tr>\n",
       "      <th>3</th>\n",
       "      <td>3797467345</td>\n",
       "      <td>1196621759</td>\n",
       "      <td>2019-08-15</td>\n",
       "      <td>9759</td>\n",
       "      <td>B</td>\n",
       "    </tr>\n",
       "    <tr>\n",
       "      <th>4</th>\n",
       "      <td>2282983706</td>\n",
       "      <td>2322279887</td>\n",
       "      <td>2019-08-15</td>\n",
       "      <td>2308</td>\n",
       "      <td>B</td>\n",
       "    </tr>\n",
       "  </tbody>\n",
       "</table>\n",
       "</div>"
      ],
      "text/plain": [
       "   transactionId   visitorId        date  revenue group\n",
       "0     3667963787  3312258926  2019-08-15     1650     B\n",
       "1     2804400009  3642806036  2019-08-15      730     B\n",
       "2     2961555356  4069496402  2019-08-15      400     A\n",
       "3     3797467345  1196621759  2019-08-15     9759     B\n",
       "4     2282983706  2322279887  2019-08-15     2308     B"
      ]
     },
     "execution_count": 8,
     "metadata": {},
     "output_type": "execute_result"
    }
   ],
   "source": [
    "df_ord.head()"
   ]
  },
  {
   "cell_type": "code",
   "execution_count": 9,
   "id": "3380089e-2e42-4961-9264-5f83c37433ca",
   "metadata": {},
   "outputs": [
    {
     "data": {
      "text/html": [
       "<div>\n",
       "<style scoped>\n",
       "    .dataframe tbody tr th:only-of-type {\n",
       "        vertical-align: middle;\n",
       "    }\n",
       "\n",
       "    .dataframe tbody tr th {\n",
       "        vertical-align: top;\n",
       "    }\n",
       "\n",
       "    .dataframe thead th {\n",
       "        text-align: right;\n",
       "    }\n",
       "</style>\n",
       "<table border=\"1\" class=\"dataframe\">\n",
       "  <thead>\n",
       "    <tr style=\"text-align: right;\">\n",
       "      <th></th>\n",
       "      <th>date</th>\n",
       "      <th>group</th>\n",
       "      <th>visitors</th>\n",
       "    </tr>\n",
       "  </thead>\n",
       "  <tbody>\n",
       "    <tr>\n",
       "      <th>0</th>\n",
       "      <td>2019-08-01</td>\n",
       "      <td>A</td>\n",
       "      <td>719</td>\n",
       "    </tr>\n",
       "    <tr>\n",
       "      <th>1</th>\n",
       "      <td>2019-08-02</td>\n",
       "      <td>A</td>\n",
       "      <td>619</td>\n",
       "    </tr>\n",
       "    <tr>\n",
       "      <th>2</th>\n",
       "      <td>2019-08-03</td>\n",
       "      <td>A</td>\n",
       "      <td>507</td>\n",
       "    </tr>\n",
       "    <tr>\n",
       "      <th>3</th>\n",
       "      <td>2019-08-04</td>\n",
       "      <td>A</td>\n",
       "      <td>717</td>\n",
       "    </tr>\n",
       "    <tr>\n",
       "      <th>4</th>\n",
       "      <td>2019-08-05</td>\n",
       "      <td>A</td>\n",
       "      <td>756</td>\n",
       "    </tr>\n",
       "  </tbody>\n",
       "</table>\n",
       "</div>"
      ],
      "text/plain": [
       "         date group  visitors\n",
       "0  2019-08-01     A       719\n",
       "1  2019-08-02     A       619\n",
       "2  2019-08-03     A       507\n",
       "3  2019-08-04     A       717\n",
       "4  2019-08-05     A       756"
      ]
     },
     "execution_count": 9,
     "metadata": {},
     "output_type": "execute_result"
    }
   ],
   "source": [
    "df_vis.head()"
   ]
  },
  {
   "cell_type": "code",
   "execution_count": 10,
   "id": "81b80979-7ab4-4191-9e63-bfac68785b37",
   "metadata": {},
   "outputs": [
    {
     "name": "stdout",
     "output_type": "stream",
     "text": [
      "<class 'pandas.core.frame.DataFrame'>\n",
      "RangeIndex: 1197 entries, 0 to 1196\n",
      "Data columns (total 5 columns):\n",
      " #   Column         Non-Null Count  Dtype \n",
      "---  ------         --------------  ----- \n",
      " 0   transactionId  1197 non-null   int64 \n",
      " 1   visitorId      1197 non-null   int64 \n",
      " 2   date           1197 non-null   object\n",
      " 3   revenue        1197 non-null   int64 \n",
      " 4   group          1197 non-null   object\n",
      "dtypes: int64(3), object(2)\n",
      "memory usage: 46.9+ KB\n"
     ]
    }
   ],
   "source": [
    "df_ord.info()"
   ]
  },
  {
   "cell_type": "markdown",
   "id": "a7f51fcd-7980-4487-8c88-7beb60f2339f",
   "metadata": {},
   "source": [
    "Мы видим,что в данных orders пропусков нет.<br>\n",
    "В датафрейме поле date требует конвертации из строкового типа в тип дата:"
   ]
  },
  {
   "cell_type": "code",
   "execution_count": 11,
   "id": "aa411a7e-ca88-4864-b395-c061c6c27dc6",
   "metadata": {},
   "outputs": [],
   "source": [
    "df_ord['date'] = df_ord['date'].map(\n",
    "    lambda x: dt.datetime.strptime(x, '%Y-%m-%d'))"
   ]
  },
  {
   "cell_type": "code",
   "execution_count": 12,
   "id": "c8a8dab4-3e31-42e4-bb35-18835c05d9c3",
   "metadata": {},
   "outputs": [
    {
     "name": "stdout",
     "output_type": "stream",
     "text": [
      "<class 'pandas.core.frame.DataFrame'>\n",
      "RangeIndex: 62 entries, 0 to 61\n",
      "Data columns (total 3 columns):\n",
      " #   Column    Non-Null Count  Dtype \n",
      "---  ------    --------------  ----- \n",
      " 0   date      62 non-null     object\n",
      " 1   group     62 non-null     object\n",
      " 2   visitors  62 non-null     int64 \n",
      "dtypes: int64(1), object(2)\n",
      "memory usage: 1.6+ KB\n"
     ]
    }
   ],
   "source": [
    "df_vis.info()"
   ]
  },
  {
   "cell_type": "markdown",
   "id": "392f3479-cf0f-4a97-9fd9-c579ca3993b9",
   "metadata": {},
   "source": [
    "Мы видим,что в данных visitors пропусков нет.<br>\n",
    "В датафрейме поле date требует конвертации из строкового типа в тип дата:"
   ]
  },
  {
   "cell_type": "code",
   "execution_count": 13,
   "id": "7067e4b4-a746-412d-b44d-8a97ef885560",
   "metadata": {},
   "outputs": [],
   "source": [
    "df_vis['date'] = df_vis['date'].map(\n",
    "    lambda x: dt.datetime.strptime(x, '%Y-%m-%d'))"
   ]
  },
  {
   "cell_type": "code",
   "execution_count": 14,
   "id": "5b1e4563-0d9c-4048-9a65-f8b342532e37",
   "metadata": {},
   "outputs": [
    {
     "name": "stderr",
     "output_type": "stream",
     "text": [
      "C:\\Users\\1395355\\AppData\\Local\\Temp\\ipykernel_38988\\860136344.py:1: FutureWarning: Treating datetime data as categorical rather than numeric in `.describe` is deprecated and will be removed in a future version of pandas. Specify `datetime_is_numeric=True` to silence this warning and adopt the future behavior now.\n",
      "  df_ord.describe(include='all')\n"
     ]
    },
    {
     "data": {
      "text/html": [
       "<div>\n",
       "<style scoped>\n",
       "    .dataframe tbody tr th:only-of-type {\n",
       "        vertical-align: middle;\n",
       "    }\n",
       "\n",
       "    .dataframe tbody tr th {\n",
       "        vertical-align: top;\n",
       "    }\n",
       "\n",
       "    .dataframe thead th {\n",
       "        text-align: right;\n",
       "    }\n",
       "</style>\n",
       "<table border=\"1\" class=\"dataframe\">\n",
       "  <thead>\n",
       "    <tr style=\"text-align: right;\">\n",
       "      <th></th>\n",
       "      <th>transactionId</th>\n",
       "      <th>visitorId</th>\n",
       "      <th>date</th>\n",
       "      <th>revenue</th>\n",
       "      <th>group</th>\n",
       "    </tr>\n",
       "  </thead>\n",
       "  <tbody>\n",
       "    <tr>\n",
       "      <th>count</th>\n",
       "      <td>1197.00</td>\n",
       "      <td>1197.00</td>\n",
       "      <td>1197</td>\n",
       "      <td>1197.00</td>\n",
       "      <td>1197</td>\n",
       "    </tr>\n",
       "    <tr>\n",
       "      <th>unique</th>\n",
       "      <td>NaN</td>\n",
       "      <td>NaN</td>\n",
       "      <td>31</td>\n",
       "      <td>NaN</td>\n",
       "      <td>2</td>\n",
       "    </tr>\n",
       "    <tr>\n",
       "      <th>top</th>\n",
       "      <td>NaN</td>\n",
       "      <td>NaN</td>\n",
       "      <td>2019-08-05 00:00:00</td>\n",
       "      <td>NaN</td>\n",
       "      <td>B</td>\n",
       "    </tr>\n",
       "    <tr>\n",
       "      <th>freq</th>\n",
       "      <td>NaN</td>\n",
       "      <td>NaN</td>\n",
       "      <td>48</td>\n",
       "      <td>NaN</td>\n",
       "      <td>640</td>\n",
       "    </tr>\n",
       "    <tr>\n",
       "      <th>first</th>\n",
       "      <td>NaN</td>\n",
       "      <td>NaN</td>\n",
       "      <td>2019-08-01 00:00:00</td>\n",
       "      <td>NaN</td>\n",
       "      <td>NaN</td>\n",
       "    </tr>\n",
       "    <tr>\n",
       "      <th>last</th>\n",
       "      <td>NaN</td>\n",
       "      <td>NaN</td>\n",
       "      <td>2019-08-31 00:00:00</td>\n",
       "      <td>NaN</td>\n",
       "      <td>NaN</td>\n",
       "    </tr>\n",
       "    <tr>\n",
       "      <th>mean</th>\n",
       "      <td>2155621385.53</td>\n",
       "      <td>2165960143.10</td>\n",
       "      <td>NaN</td>\n",
       "      <td>8348.01</td>\n",
       "      <td>NaN</td>\n",
       "    </tr>\n",
       "    <tr>\n",
       "      <th>std</th>\n",
       "      <td>1229084904.76</td>\n",
       "      <td>1236014192.15</td>\n",
       "      <td>NaN</td>\n",
       "      <td>39191.13</td>\n",
       "      <td>NaN</td>\n",
       "    </tr>\n",
       "    <tr>\n",
       "      <th>min</th>\n",
       "      <td>1062393.00</td>\n",
       "      <td>5114589.00</td>\n",
       "      <td>NaN</td>\n",
       "      <td>50.00</td>\n",
       "      <td>NaN</td>\n",
       "    </tr>\n",
       "    <tr>\n",
       "      <th>25%</th>\n",
       "      <td>1166775572.00</td>\n",
       "      <td>1111826046.00</td>\n",
       "      <td>NaN</td>\n",
       "      <td>1220.00</td>\n",
       "      <td>NaN</td>\n",
       "    </tr>\n",
       "    <tr>\n",
       "      <th>50%</th>\n",
       "      <td>2145193898.00</td>\n",
       "      <td>2217984702.00</td>\n",
       "      <td>NaN</td>\n",
       "      <td>2978.00</td>\n",
       "      <td>NaN</td>\n",
       "    </tr>\n",
       "    <tr>\n",
       "      <th>75%</th>\n",
       "      <td>3237740112.00</td>\n",
       "      <td>3177606451.00</td>\n",
       "      <td>NaN</td>\n",
       "      <td>8290.00</td>\n",
       "      <td>NaN</td>\n",
       "    </tr>\n",
       "    <tr>\n",
       "      <th>max</th>\n",
       "      <td>4293855558.00</td>\n",
       "      <td>4283872382.00</td>\n",
       "      <td>NaN</td>\n",
       "      <td>1294500.00</td>\n",
       "      <td>NaN</td>\n",
       "    </tr>\n",
       "  </tbody>\n",
       "</table>\n",
       "</div>"
      ],
      "text/plain": [
       "        transactionId     visitorId                 date    revenue group\n",
       "count         1197.00       1197.00                 1197    1197.00  1197\n",
       "unique            NaN           NaN                   31        NaN     2\n",
       "top               NaN           NaN  2019-08-05 00:00:00        NaN     B\n",
       "freq              NaN           NaN                   48        NaN   640\n",
       "first             NaN           NaN  2019-08-01 00:00:00        NaN   NaN\n",
       "last              NaN           NaN  2019-08-31 00:00:00        NaN   NaN\n",
       "mean    2155621385.53 2165960143.10                  NaN    8348.01   NaN\n",
       "std     1229084904.76 1236014192.15                  NaN   39191.13   NaN\n",
       "min        1062393.00    5114589.00                  NaN      50.00   NaN\n",
       "25%     1166775572.00 1111826046.00                  NaN    1220.00   NaN\n",
       "50%     2145193898.00 2217984702.00                  NaN    2978.00   NaN\n",
       "75%     3237740112.00 3177606451.00                  NaN    8290.00   NaN\n",
       "max     4293855558.00 4283872382.00                  NaN 1294500.00   NaN"
      ]
     },
     "execution_count": 14,
     "metadata": {},
     "output_type": "execute_result"
    }
   ],
   "source": [
    "df_ord.describe(include='all')"
   ]
  },
  {
   "cell_type": "markdown",
   "id": "d284b7f4-1809-4f05-bb6d-100dfd3944a3",
   "metadata": {},
   "source": [
    "В поле revenue 75%  всех данных не превышают значения 8290, при этом максимальное значение 1 294 500, что может говорить о выбросах данных в этом поле. В дальнейшем мы с этим разберемся. "
   ]
  },
  {
   "cell_type": "code",
   "execution_count": 15,
   "id": "a17da7bd-0efd-468a-8981-2a345cddc487",
   "metadata": {},
   "outputs": [
    {
     "name": "stderr",
     "output_type": "stream",
     "text": [
      "C:\\Users\\1395355\\AppData\\Local\\Temp\\ipykernel_38988\\3018354658.py:1: FutureWarning: Treating datetime data as categorical rather than numeric in `.describe` is deprecated and will be removed in a future version of pandas. Specify `datetime_is_numeric=True` to silence this warning and adopt the future behavior now.\n",
      "  df_vis.describe(include='all')\n"
     ]
    },
    {
     "data": {
      "text/html": [
       "<div>\n",
       "<style scoped>\n",
       "    .dataframe tbody tr th:only-of-type {\n",
       "        vertical-align: middle;\n",
       "    }\n",
       "\n",
       "    .dataframe tbody tr th {\n",
       "        vertical-align: top;\n",
       "    }\n",
       "\n",
       "    .dataframe thead th {\n",
       "        text-align: right;\n",
       "    }\n",
       "</style>\n",
       "<table border=\"1\" class=\"dataframe\">\n",
       "  <thead>\n",
       "    <tr style=\"text-align: right;\">\n",
       "      <th></th>\n",
       "      <th>date</th>\n",
       "      <th>group</th>\n",
       "      <th>visitors</th>\n",
       "    </tr>\n",
       "  </thead>\n",
       "  <tbody>\n",
       "    <tr>\n",
       "      <th>count</th>\n",
       "      <td>62</td>\n",
       "      <td>62</td>\n",
       "      <td>62.00</td>\n",
       "    </tr>\n",
       "    <tr>\n",
       "      <th>unique</th>\n",
       "      <td>31</td>\n",
       "      <td>2</td>\n",
       "      <td>NaN</td>\n",
       "    </tr>\n",
       "    <tr>\n",
       "      <th>top</th>\n",
       "      <td>2019-08-01 00:00:00</td>\n",
       "      <td>A</td>\n",
       "      <td>NaN</td>\n",
       "    </tr>\n",
       "    <tr>\n",
       "      <th>freq</th>\n",
       "      <td>2</td>\n",
       "      <td>31</td>\n",
       "      <td>NaN</td>\n",
       "    </tr>\n",
       "    <tr>\n",
       "      <th>first</th>\n",
       "      <td>2019-08-01 00:00:00</td>\n",
       "      <td>NaN</td>\n",
       "      <td>NaN</td>\n",
       "    </tr>\n",
       "    <tr>\n",
       "      <th>last</th>\n",
       "      <td>2019-08-31 00:00:00</td>\n",
       "      <td>NaN</td>\n",
       "      <td>NaN</td>\n",
       "    </tr>\n",
       "    <tr>\n",
       "      <th>mean</th>\n",
       "      <td>NaN</td>\n",
       "      <td>NaN</td>\n",
       "      <td>607.29</td>\n",
       "    </tr>\n",
       "    <tr>\n",
       "      <th>std</th>\n",
       "      <td>NaN</td>\n",
       "      <td>NaN</td>\n",
       "      <td>114.40</td>\n",
       "    </tr>\n",
       "    <tr>\n",
       "      <th>min</th>\n",
       "      <td>NaN</td>\n",
       "      <td>NaN</td>\n",
       "      <td>361.00</td>\n",
       "    </tr>\n",
       "    <tr>\n",
       "      <th>25%</th>\n",
       "      <td>NaN</td>\n",
       "      <td>NaN</td>\n",
       "      <td>534.00</td>\n",
       "    </tr>\n",
       "    <tr>\n",
       "      <th>50%</th>\n",
       "      <td>NaN</td>\n",
       "      <td>NaN</td>\n",
       "      <td>624.50</td>\n",
       "    </tr>\n",
       "    <tr>\n",
       "      <th>75%</th>\n",
       "      <td>NaN</td>\n",
       "      <td>NaN</td>\n",
       "      <td>710.50</td>\n",
       "    </tr>\n",
       "    <tr>\n",
       "      <th>max</th>\n",
       "      <td>NaN</td>\n",
       "      <td>NaN</td>\n",
       "      <td>770.00</td>\n",
       "    </tr>\n",
       "  </tbody>\n",
       "</table>\n",
       "</div>"
      ],
      "text/plain": [
       "                       date group  visitors\n",
       "count                    62    62     62.00\n",
       "unique                   31     2       NaN\n",
       "top     2019-08-01 00:00:00     A       NaN\n",
       "freq                      2    31       NaN\n",
       "first   2019-08-01 00:00:00   NaN       NaN\n",
       "last    2019-08-31 00:00:00   NaN       NaN\n",
       "mean                    NaN   NaN    607.29\n",
       "std                     NaN   NaN    114.40\n",
       "min                     NaN   NaN    361.00\n",
       "25%                     NaN   NaN    534.00\n",
       "50%                     NaN   NaN    624.50\n",
       "75%                     NaN   NaN    710.50\n",
       "max                     NaN   NaN    770.00"
      ]
     },
     "execution_count": 15,
     "metadata": {},
     "output_type": "execute_result"
    }
   ],
   "source": [
    "df_vis.describe(include='all')"
   ]
  },
  {
   "cell_type": "markdown",
   "id": "3a05172c-52ad-4377-aaf8-3ddfa7645454",
   "metadata": {},
   "source": [
    "В датасете в поле visitors наблюдается смещение данных в сторону макисмальных значений: медиана - 624,<br> \n",
    "а максимальное значение - 770 "
   ]
  },
  {
   "cell_type": "markdown",
   "id": "3cbd9e04-7e8b-4829-aa8e-51f530fd074a",
   "metadata": {},
   "source": [
    "<a id=\"preparation\"> </a>\n",
    "### Предобработка данных\n",
    "<a href=\"#section1\">Оглавление</a>"
   ]
  },
  {
   "cell_type": "markdown",
   "id": "323c3e78-4ac0-471a-b018-6dfbdcec17ef",
   "metadata": {},
   "source": [
    "Проверим датасеты на дубликаты:"
   ]
  },
  {
   "cell_type": "code",
   "execution_count": 16,
   "id": "7d2e04bf-2117-405d-aebc-3f0d07f272d7",
   "metadata": {},
   "outputs": [
    {
     "data": {
      "text/plain": [
       "0"
      ]
     },
     "execution_count": 16,
     "metadata": {},
     "output_type": "execute_result"
    }
   ],
   "source": [
    "df_vis.duplicated().sum()"
   ]
  },
  {
   "cell_type": "code",
   "execution_count": 17,
   "id": "1301cebf-fb11-454f-8a4a-059d1af240bd",
   "metadata": {},
   "outputs": [
    {
     "data": {
      "text/plain": [
       "0"
      ]
     },
     "execution_count": 17,
     "metadata": {},
     "output_type": "execute_result"
    }
   ],
   "source": [
    "df_ord.duplicated().sum()"
   ]
  },
  {
   "cell_type": "markdown",
   "id": "4ccd7440-0bd5-478f-80d4-8d2f7a2d2820",
   "metadata": {},
   "source": [
    "Дубликатов в датасетах нет"
   ]
  },
  {
   "cell_type": "markdown",
   "id": "ad93e8d9-cf59-4642-be8c-9496c0fd6b3d",
   "metadata": {},
   "source": [
    "Посмотрим на распределение в датасете и одинственный столбец который нам интересен с точки зрения распределения - 'revenue':"
   ]
  },
  {
   "cell_type": "code",
   "execution_count": 18,
   "id": "a66c6bda-b13c-48d7-acb8-3c7256c704e6",
   "metadata": {},
   "outputs": [
    {
     "data": {
      "image/png": "[encoded data removed]",
      "text/plain": [
       "<Figure size 640x480 with 1 Axes>"
      ]
     },
     "metadata": {},
     "output_type": "display_data"
    }
   ],
   "source": [
    "df_ord['revenue'].hist()\n",
    "plt.xlabel('Сумма заказа')\n",
    "plt.ylabel('Частота появления заказа')\n",
    "plt.title('Распределение сумм заказов по частотам')\n",
    "plt.show()"
   ]
  },
  {
   "cell_type": "markdown",
   "id": "053227a6-14fe-4e0e-9735-434d9f33c855",
   "metadata": {},
   "source": [
    "Картина не очень информативна и данные не имеют вид нормального распределения. Попрбуем посмотреть распределение по другому:"
   ]
  },
  {
   "cell_type": "code",
   "execution_count": 19,
   "id": "706cfde2-db70-4801-947f-deb7c23aa75d",
   "metadata": {},
   "outputs": [],
   "source": [
    "x_values = range(len(df_ord))"
   ]
  },
  {
   "cell_type": "code",
   "execution_count": 20,
   "id": "88fa58f4-ca03-47fd-99fe-324c7ba2fc66",
   "metadata": {},
   "outputs": [
    {
     "data": {
      "image/png": "[encoded data removed]",
      "text/plain": [
       "<Figure size 640x480 with 1 Axes>"
      ]
     },
     "metadata": {},
     "output_type": "display_data"
    }
   ],
   "source": [
    "plt.scatter(x_values, df_ord['revenue'])\n",
    "plt.ylim(0, 125000);\n",
    "plt.xlabel('Номер заказа')\n",
    "plt.ylabel('Сумма заказа')\n",
    "plt.title('Распределение заказов по их суммам')\n",
    "plt.show()"
   ]
  },
  {
   "cell_type": "markdown",
   "id": "99954f17-8084-4a97-b11d-04e224be622d",
   "metadata": {},
   "source": [
    "Мы видим, что большая часть данных сосредоточена в пределах 30000<br>\n",
    "Попробуем еще один вариант представления данных - boxplot:"
   ]
  },
  {
   "cell_type": "code",
   "execution_count": 21,
   "id": "4967de39-8d0f-4a80-9cf0-d8ddd205f4db",
   "metadata": {},
   "outputs": [
    {
     "data": {
      "image/png": "[encoded data removed]",
      "text/plain": [
       "<Figure size 640x480 with 1 Axes>"
      ]
     },
     "metadata": {},
     "output_type": "display_data"
    }
   ],
   "source": [
    "plt.boxplot(df_ord['revenue'])\n",
    "plt.ylim(0,25000)\n",
    "plt.xlabel('Номер распределения')\n",
    "plt.ylabel('Сумма заказа')\n",
    "plt.title('Распределение заказов по их суммам')\n",
    "plt.show()"
   ]
  },
  {
   "cell_type": "markdown",
   "id": "585c254c-10fa-4ad1-875a-ec1a797eb92e",
   "metadata": {},
   "source": [
    "Большая часть данных располагается выше 1000 и ниже 10000 с медианой в районе 3000."
   ]
  },
  {
   "cell_type": "markdown",
   "id": "e7d9b10e-0551-4789-9884-a6575187995d",
   "metadata": {},
   "source": [
    "Рассмотрим данные в датасете visitors, в столбце 'visitors':"
   ]
  },
  {
   "cell_type": "code",
   "execution_count": 22,
   "id": "f506ebd4-e9ef-4d5e-a3dc-ebf692a6200d",
   "metadata": {},
   "outputs": [
    {
     "data": {
      "image/png": "[encoded data removed]",
      "text/plain": [
       "<Figure size 640x480 with 1 Axes>"
      ]
     },
     "metadata": {},
     "output_type": "display_data"
    }
   ],
   "source": [
    "df_vis['visitors'].hist(bins=20)\n",
    "plt.xlabel('Кол-во пользователей в день')\n",
    "plt.ylabel('Частота появления')\n",
    "plt.title('Гистограмма распределения кол-ва пользователей в день')\n",
    "plt.show()"
   ]
  },
  {
   "cell_type": "markdown",
   "id": "55dbd812-d9c3-4221-9784-fc91cd136941",
   "metadata": {},
   "source": [
    "На гистограмме наблюдается более-менее равномерное распределение данных, с ростом в большую сторону.<br>\n",
    "При этом мы должны признать, что данные распределены не нормально."
   ]
  },
  {
   "cell_type": "code",
   "execution_count": 23,
   "id": "dc392768-36d0-4dde-90fc-ce4e50ec4bb9",
   "metadata": {},
   "outputs": [],
   "source": [
    "x_values = range(len(df_vis))"
   ]
  },
  {
   "cell_type": "code",
   "execution_count": 24,
   "id": "90eb3321-dffa-4ffd-b6d6-50765d41c899",
   "metadata": {},
   "outputs": [
    {
     "data": {
      "image/png": "[encoded data removed]",
      "text/plain": [
       "<Figure size 640x480 with 1 Axes>"
      ]
     },
     "metadata": {},
     "output_type": "display_data"
    }
   ],
   "source": [
    "plt.scatter(x_values, df_vis['visitors'])\n",
    "plt.xlabel('Номер дня')\n",
    "plt.ylabel('Кол-во пользователей в день')\n",
    "plt.title('Распределение кол-ва пользователей по дням')\n",
    "plt.show()"
   ]
  },
  {
   "cell_type": "markdown",
   "id": "85e3f7a9-e4fc-4c73-b394-eb39c476624d",
   "metadata": {},
   "source": [
    "Мы видим, что данные распределены по всему графику, с чуть большей плотностью в верхней части графика, подтверждение гистограммы выше."
   ]
  },
  {
   "cell_type": "code",
   "execution_count": 25,
   "id": "ed625748-fb10-4e7f-92a0-4b4ac84701bb",
   "metadata": {},
   "outputs": [
    {
     "data": {
      "image/png": "[encoded data removed]",
      "text/plain": [
       "<Figure size 640x480 with 1 Axes>"
      ]
     },
     "metadata": {},
     "output_type": "display_data"
    }
   ],
   "source": [
    "plt.boxplot(df_vis['visitors'])\n",
    "plt.xlabel('Номер распределения')\n",
    "plt.ylabel('кол-во пользователей в день')\n",
    "plt.title('Распределение кол-ва посетителей в день')\n",
    "plt.show()"
   ]
  },
  {
   "cell_type": "markdown",
   "id": "45e7e449-663e-40e6-9aae-56cbcb44eb8b",
   "metadata": {},
   "source": [
    "Boxplot показывает нам однозначно, что большая часть данных лежит выше 530, но ниже 730."
   ]
  },
  {
   "cell_type": "markdown",
   "id": "72dcb5e4-6ac0-4dff-a71c-49f97936d51e",
   "metadata": {},
   "source": [
    "Сколько групп было в А/В тесте"
   ]
  },
  {
   "cell_type": "code",
   "execution_count": 26,
   "id": "19ec83f1-8445-47af-8614-095bbccf9d41",
   "metadata": {},
   "outputs": [
    {
     "data": {
      "text/plain": [
       "2"
      ]
     },
     "execution_count": 26,
     "metadata": {},
     "output_type": "execute_result"
    }
   ],
   "source": [
    "df_vis['group'].nunique()"
   ]
  },
  {
   "cell_type": "markdown",
   "id": "a14db8e6-c72d-48cf-90b2-df0ca5ab9599",
   "metadata": {},
   "source": [
    "Мы видим, что кол-во групп в А/В тесте 2"
   ]
  },
  {
   "cell_type": "markdown",
   "id": "8c188fd4-965f-4aab-ad4b-112e53671a23",
   "metadata": {},
   "source": [
    "Посмотрим, сколько пользователей в каждой группе в датасете visitors:"
   ]
  },
  {
   "cell_type": "code",
   "execution_count": 27,
   "id": "0409791d-e1a1-44d9-a349-375929d73da1",
   "metadata": {},
   "outputs": [
    {
     "data": {
      "text/plain": [
       "Index(['date', 'group', 'visitors'], dtype='object')"
      ]
     },
     "execution_count": 27,
     "metadata": {},
     "output_type": "execute_result"
    }
   ],
   "source": [
    "df_vis.columns"
   ]
  },
  {
   "cell_type": "code",
   "execution_count": 28,
   "id": "4ed4b955-b914-49ad-afde-b1f6cd77abd1",
   "metadata": {},
   "outputs": [
    {
     "data": {
      "text/plain": [
       "group\n",
       "A    18736\n",
       "B    18916\n",
       "Name: visitors, dtype: int64"
      ]
     },
     "execution_count": 28,
     "metadata": {},
     "output_type": "execute_result"
    }
   ],
   "source": [
    "df_vis.groupby('group')['visitors'].sum()"
   ]
  },
  {
   "cell_type": "code",
   "execution_count": 29,
   "id": "b4f1f009-871a-438d-90a0-26c34c5688e8",
   "metadata": {},
   "outputs": [
    {
     "data": {
      "text/plain": [
       "0.99"
      ]
     },
     "execution_count": 29,
     "metadata": {},
     "output_type": "execute_result"
    }
   ],
   "source": [
    "round(df_vis.query('group == \"A\"')['visitors'].sum() / df_vis.query('group == \"B\"')['visitors'].sum(), 3)"
   ]
  },
  {
   "cell_type": "markdown",
   "id": "679a3f43-de4e-42b8-a8f9-7c94b48e0c3b",
   "metadata": {},
   "source": [
    "Кол-во визитов в каждой группе примерно одинаковое"
   ]
  },
  {
   "cell_type": "markdown",
   "id": "f88a357f-13f6-4d7e-948f-ffd66ae8d88c",
   "metadata": {},
   "source": [
    "Посмотрим на кол-во клиентов в каждой группе в датасете orders:"
   ]
  },
  {
   "cell_type": "code",
   "execution_count": 30,
   "id": "9fca9265-d980-4ae7-af95-18081a8ccfa8",
   "metadata": {},
   "outputs": [
    {
     "data": {
      "text/plain": [
       "group\n",
       "A    503\n",
       "B    586\n",
       "Name: visitorId, dtype: int64"
      ]
     },
     "execution_count": 30,
     "metadata": {},
     "output_type": "execute_result"
    }
   ],
   "source": [
    "df_ord.groupby('group')['visitorId'].nunique()"
   ]
  },
  {
   "cell_type": "code",
   "execution_count": 31,
   "id": "4f5956d5-5747-47d1-879a-a9a1a07f8243",
   "metadata": {},
   "outputs": [
    {
     "data": {
      "text/plain": [
       "0.858"
      ]
     },
     "execution_count": 31,
     "metadata": {},
     "output_type": "execute_result"
    }
   ],
   "source": [
    "round(df_ord.query('group == \"A\"')['visitorId'].nunique() / df_ord.query('group == \"B\"')['visitorId'].nunique(), 3)"
   ]
  },
  {
   "cell_type": "markdown",
   "id": "4e90374b-1427-4689-8deb-4d0e0f585932",
   "metadata": {},
   "source": [
    "Наблюдается перекос данных в сторону В группы"
   ]
  },
  {
   "cell_type": "markdown",
   "id": "44e5618e-5d7e-49a8-b219-1b26f4d384e7",
   "metadata": {},
   "source": [
    "Посмотрим не попадают ли пользователи из одной группы в другую - ищем через пересечение множеств:"
   ]
  },
  {
   "cell_type": "code",
   "execution_count": 32,
   "id": "1f960e8d-7263-4e2b-9be6-88723546b700",
   "metadata": {},
   "outputs": [
    {
     "data": {
      "text/plain": [
       "(1197, 5)"
      ]
     },
     "execution_count": 32,
     "metadata": {},
     "output_type": "execute_result"
    }
   ],
   "source": [
    "df_ord.shape"
   ]
  },
  {
   "cell_type": "code",
   "execution_count": 33,
   "id": "7404c81c-dab8-4206-8d64-49869cb45e07",
   "metadata": {},
   "outputs": [
    {
     "data": {
      "text/plain": [
       "58"
      ]
     },
     "execution_count": 33,
     "metadata": {},
     "output_type": "execute_result"
    }
   ],
   "source": [
    "len(set(df_ord.query('group==\"A\"')['visitorId'].unique()).intersection(df_ord.query('group==\"B\"')['visitorId'].unique()))"
   ]
  },
  {
   "cell_type": "code",
   "execution_count": 34,
   "id": "cd73e33f-b5a7-4033-a674-94c225d9eba4",
   "metadata": {},
   "outputs": [],
   "source": [
    "res = set(df_ord.query('group==\"A\"')['visitorId'].unique()\n",
    "       ).intersection(df_ord.query('group==\"B\"')['visitorId'].unique())"
   ]
  },
  {
   "cell_type": "code",
   "execution_count": 35,
   "id": "4c8a8355-106f-41bf-8802-bf1dca2609ce",
   "metadata": {},
   "outputs": [],
   "source": [
    "df_ord = df_ord[~df_ord['visitorId'].isin(res)]"
   ]
  },
  {
   "cell_type": "code",
   "execution_count": 36,
   "id": "e48729d8-b202-49b1-8f48-0b3289afe533",
   "metadata": {},
   "outputs": [
    {
     "data": {
      "text/plain": [
       "0"
      ]
     },
     "execution_count": 36,
     "metadata": {},
     "output_type": "execute_result"
    }
   ],
   "source": [
    "len(set(df_ord.query('group==\"A\"')['visitorId'].unique()).intersection(df_ord.query('group==\"B\"')['visitorId'].unique()))"
   ]
  },
  {
   "cell_type": "markdown",
   "id": "76933421-964f-49df-93f1-4f949427365a",
   "metadata": {},
   "source": [
    "Больше клиенты в группах не пересекаются!"
   ]
  },
  {
   "cell_type": "markdown",
   "id": "e93327ec-22c4-4afb-9cd8-dafc272b8342",
   "metadata": {},
   "source": [
    "Посмотрим в какие даты проводилось тестирование:"
   ]
  },
  {
   "cell_type": "code",
   "execution_count": 37,
   "id": "13e8aea9-e77b-43df-9372-d6562e7f99c1",
   "metadata": {},
   "outputs": [
    {
     "name": "stdout",
     "output_type": "stream",
     "text": [
      "Нижняя граница временного интервала тестирования: 2019-08-01 00:00:00\n",
      "Верхняя граница временного интервала тестирования: 2019-08-31 00:00:00\n"
     ]
    }
   ],
   "source": [
    "print(f'Нижняя граница временного интервала тестирования: {df_ord[\"date\"].min()}')\n",
    "print(f'Верхняя граница временного интервала тестирования: {df_ord[\"date\"].max()}')"
   ]
  },
  {
   "cell_type": "markdown",
   "id": "c3030a83-db97-4707-9a19-5df41587fef5",
   "metadata": {},
   "source": [
    "Таким образом тестирование проводилось в течение всего августа 2019 года "
   ]
  },
  {
   "cell_type": "markdown",
   "id": "eead2256-5320-46f5-8bc2-ece3114b3bcb",
   "metadata": {},
   "source": [
    "<a id=\"reseaching\"> </a>\n",
    "### Исследовательский анализ                                                                \n",
    "<a href=\"#section1\">Оглавление</a>"
   ]
  },
  {
   "cell_type": "markdown",
   "id": "3fd521ca-6973-48e7-ae72-1831e75c4c43",
   "metadata": {},
   "source": [
    "В ходе исследования мы будем проверять два параметра: среднее кол-во заказов в группах и среднюю стоимость заказа в группах.\n",
    "В связи с этим у нас будет две нулевых гипотезы и две альтернативных гипотезы. Первая нулева гипотеза - среднее кол-во заказов в группах А и В не отличается. Альтернативная ей гипотеза среднее кол-во заказов в группах А и В отличается друг от друга. Вторая нулевая гипотеза - средняя стоимость заказов в группах А и В не отличается друг от друга. Альтернативная ей гипотеза - средние стоимости заказов отличаются друг от друга в группах А и В"
   ]
  },
  {
   "cell_type": "markdown",
   "id": "5ac09ad1-ea38-43b2-b226-e25917a9415e",
   "metadata": {},
   "source": [
    "<div class=\"alert alert-info\"> <b>Комментарий студента:</b> Добавил две нулевых и две альтернативных гипотезы </div>"
   ]
  },
  {
   "cell_type": "markdown",
   "id": "86c0a41c-dd24-4540-baf0-216ba84395fc",
   "metadata": {},
   "source": [
    "<a id=\"cum_revenue_plot\"> </a>\n",
    "#### График кумулятивной выручки по группам\n",
    "<a href=\"#section1\">Оглавление</a>"
   ]
  },
  {
   "cell_type": "markdown",
   "id": "84709c7e-c86a-451b-bc30-1aa0f83cf667",
   "metadata": {},
   "source": [
    "Подготовим данные для анализа. Создадим датасет состощий из уникальных значений пар дата-группа"
   ]
  },
  {
   "cell_type": "code",
   "execution_count": 38,
   "id": "bbe1302c-4b78-4aff-9663-0d07cfa8789d",
   "metadata": {},
   "outputs": [],
   "source": [
    "datesGroups = df_ord[['date', 'group']].drop_duplicates()"
   ]
  },
  {
   "cell_type": "markdown",
   "id": "ed5ec28e-e49e-4446-9e55-9680580c47d9",
   "metadata": {},
   "source": [
    "создадим датасет по заказам с агрегированными данными (кумулятивные данные):"
   ]
  },
  {
   "cell_type": "code",
   "execution_count": 39,
   "id": "54c85a09-461c-41b2-bf57-4fc73f191db6",
   "metadata": {},
   "outputs": [],
   "source": [
    "ordersAggregated = datesGroups.apply(\n",
    "    lambda x: df_ord[\n",
    "        np.logical_and(\n",
    "            df_ord['date'] <= x['date'], df_ord['group'] == x['group']\n",
    "        )\n",
    "    ].agg(\n",
    "        {\n",
    "            'date': 'max',\n",
    "            'group': 'max',\n",
    "            'transactionId':'nunique',\n",
    "            'visitorId': 'nunique',\n",
    "            'revenue': 'sum',\n",
    "        }\n",
    "    ),\n",
    "    axis=1,\n",
    ").sort_values(by=['date', 'group'])\n"
   ]
  },
  {
   "cell_type": "code",
   "execution_count": 40,
   "id": "959e5c71-642c-48b9-9656-d28a56061955",
   "metadata": {},
   "outputs": [
    {
     "data": {
      "text/html": [
       "<div>\n",
       "<style scoped>\n",
       "    .dataframe tbody tr th:only-of-type {\n",
       "        vertical-align: middle;\n",
       "    }\n",
       "\n",
       "    .dataframe tbody tr th {\n",
       "        vertical-align: top;\n",
       "    }\n",
       "\n",
       "    .dataframe thead th {\n",
       "        text-align: right;\n",
       "    }\n",
       "</style>\n",
       "<table border=\"1\" class=\"dataframe\">\n",
       "  <thead>\n",
       "    <tr style=\"text-align: right;\">\n",
       "      <th></th>\n",
       "      <th>date</th>\n",
       "      <th>group</th>\n",
       "      <th>transactionId</th>\n",
       "      <th>visitorId</th>\n",
       "      <th>revenue</th>\n",
       "    </tr>\n",
       "  </thead>\n",
       "  <tbody>\n",
       "    <tr>\n",
       "      <th>55</th>\n",
       "      <td>2019-08-01</td>\n",
       "      <td>A</td>\n",
       "      <td>23</td>\n",
       "      <td>19</td>\n",
       "      <td>142779</td>\n",
       "    </tr>\n",
       "    <tr>\n",
       "      <th>66</th>\n",
       "      <td>2019-08-01</td>\n",
       "      <td>B</td>\n",
       "      <td>17</td>\n",
       "      <td>17</td>\n",
       "      <td>59758</td>\n",
       "    </tr>\n",
       "    <tr>\n",
       "      <th>175</th>\n",
       "      <td>2019-08-02</td>\n",
       "      <td>A</td>\n",
       "      <td>42</td>\n",
       "      <td>36</td>\n",
       "      <td>234381</td>\n",
       "    </tr>\n",
       "    <tr>\n",
       "      <th>173</th>\n",
       "      <td>2019-08-02</td>\n",
       "      <td>B</td>\n",
       "      <td>40</td>\n",
       "      <td>39</td>\n",
       "      <td>221801</td>\n",
       "    </tr>\n",
       "    <tr>\n",
       "      <th>291</th>\n",
       "      <td>2019-08-03</td>\n",
       "      <td>A</td>\n",
       "      <td>66</td>\n",
       "      <td>60</td>\n",
       "      <td>346854</td>\n",
       "    </tr>\n",
       "  </tbody>\n",
       "</table>\n",
       "</div>"
      ],
      "text/plain": [
       "          date group  transactionId  visitorId  revenue\n",
       "55  2019-08-01     A             23         19   142779\n",
       "66  2019-08-01     B             17         17    59758\n",
       "175 2019-08-02     A             42         36   234381\n",
       "173 2019-08-02     B             40         39   221801\n",
       "291 2019-08-03     A             66         60   346854"
      ]
     },
     "execution_count": 40,
     "metadata": {},
     "output_type": "execute_result"
    }
   ],
   "source": [
    "ordersAggregated.head()"
   ]
  },
  {
   "cell_type": "markdown",
   "id": "f89b267a-3dd3-4d3f-b0ca-2246ec68f36a",
   "metadata": {},
   "source": [
    "Создадим датасет по посетителям с агрегированными данными (кумулятивные данные)"
   ]
  },
  {
   "cell_type": "code",
   "execution_count": 41,
   "id": "476edfde-5b42-4305-b106-2cd4d14ed4b9",
   "metadata": {},
   "outputs": [],
   "source": [
    "visitorsAggregated = datesGroups.apply(\n",
    "    lambda x: df_vis[\n",
    "        np.logical_and(\n",
    "            df_vis['date'] <= x['date'], df_vis['group'] == x['group']\n",
    "        )\n",
    "    ].agg({'date': 'max', 'group': 'max', 'visitors': 'sum'}),\n",
    "    axis=1,\n",
    ").sort_values(by=['date', 'group'])\n"
   ]
  },
  {
   "cell_type": "code",
   "execution_count": 42,
   "id": "81762e44-3e9f-4b2a-9817-3f36dba19b72",
   "metadata": {},
   "outputs": [
    {
     "data": {
      "text/html": [
       "<div>\n",
       "<style scoped>\n",
       "    .dataframe tbody tr th:only-of-type {\n",
       "        vertical-align: middle;\n",
       "    }\n",
       "\n",
       "    .dataframe tbody tr th {\n",
       "        vertical-align: top;\n",
       "    }\n",
       "\n",
       "    .dataframe thead th {\n",
       "        text-align: right;\n",
       "    }\n",
       "</style>\n",
       "<table border=\"1\" class=\"dataframe\">\n",
       "  <thead>\n",
       "    <tr style=\"text-align: right;\">\n",
       "      <th></th>\n",
       "      <th>date</th>\n",
       "      <th>group</th>\n",
       "      <th>visitors</th>\n",
       "    </tr>\n",
       "  </thead>\n",
       "  <tbody>\n",
       "    <tr>\n",
       "      <th>55</th>\n",
       "      <td>2019-08-01</td>\n",
       "      <td>A</td>\n",
       "      <td>719</td>\n",
       "    </tr>\n",
       "    <tr>\n",
       "      <th>66</th>\n",
       "      <td>2019-08-01</td>\n",
       "      <td>B</td>\n",
       "      <td>713</td>\n",
       "    </tr>\n",
       "    <tr>\n",
       "      <th>175</th>\n",
       "      <td>2019-08-02</td>\n",
       "      <td>A</td>\n",
       "      <td>1338</td>\n",
       "    </tr>\n",
       "    <tr>\n",
       "      <th>173</th>\n",
       "      <td>2019-08-02</td>\n",
       "      <td>B</td>\n",
       "      <td>1294</td>\n",
       "    </tr>\n",
       "    <tr>\n",
       "      <th>291</th>\n",
       "      <td>2019-08-03</td>\n",
       "      <td>A</td>\n",
       "      <td>1845</td>\n",
       "    </tr>\n",
       "  </tbody>\n",
       "</table>\n",
       "</div>"
      ],
      "text/plain": [
       "          date group  visitors\n",
       "55  2019-08-01     A       719\n",
       "66  2019-08-01     B       713\n",
       "175 2019-08-02     A      1338\n",
       "173 2019-08-02     B      1294\n",
       "291 2019-08-03     A      1845"
      ]
     },
     "execution_count": 42,
     "metadata": {},
     "output_type": "execute_result"
    }
   ],
   "source": [
    "visitorsAggregated.head()"
   ]
  },
  {
   "cell_type": "markdown",
   "id": "bf11ff09-d7b5-4fdc-8eeb-c7113ba68f6e",
   "metadata": {},
   "source": [
    "Объединим датасеты в один для удобства дальнейшего пользования:"
   ]
  },
  {
   "cell_type": "code",
   "execution_count": 43,
   "id": "783536c8-4aa6-43b7-a858-35dec5b10e4f",
   "metadata": {},
   "outputs": [],
   "source": [
    "cumulativeData = ordersAggregated.merge(\n",
    "    visitorsAggregated, left_on=['date', 'group'], right_on=['date', 'group'])"
   ]
  },
  {
   "cell_type": "code",
   "execution_count": 44,
   "id": "d17152e2-bf4c-4a8f-a27e-2e8bc3e67d78",
   "metadata": {},
   "outputs": [],
   "source": [
    "cumulativeData.columns = ['date','group','orders','buyers','revenue','visitors']"
   ]
  },
  {
   "cell_type": "code",
   "execution_count": 45,
   "id": "a89b36c8-74c0-4f51-9025-61ee1263dc67",
   "metadata": {},
   "outputs": [
    {
     "data": {
      "text/html": [
       "<div>\n",
       "<style scoped>\n",
       "    .dataframe tbody tr th:only-of-type {\n",
       "        vertical-align: middle;\n",
       "    }\n",
       "\n",
       "    .dataframe tbody tr th {\n",
       "        vertical-align: top;\n",
       "    }\n",
       "\n",
       "    .dataframe thead th {\n",
       "        text-align: right;\n",
       "    }\n",
       "</style>\n",
       "<table border=\"1\" class=\"dataframe\">\n",
       "  <thead>\n",
       "    <tr style=\"text-align: right;\">\n",
       "      <th></th>\n",
       "      <th>date</th>\n",
       "      <th>group</th>\n",
       "      <th>orders</th>\n",
       "      <th>buyers</th>\n",
       "      <th>revenue</th>\n",
       "      <th>visitors</th>\n",
       "    </tr>\n",
       "  </thead>\n",
       "  <tbody>\n",
       "    <tr>\n",
       "      <th>0</th>\n",
       "      <td>2019-08-01</td>\n",
       "      <td>A</td>\n",
       "      <td>23</td>\n",
       "      <td>19</td>\n",
       "      <td>142779</td>\n",
       "      <td>719</td>\n",
       "    </tr>\n",
       "    <tr>\n",
       "      <th>1</th>\n",
       "      <td>2019-08-01</td>\n",
       "      <td>B</td>\n",
       "      <td>17</td>\n",
       "      <td>17</td>\n",
       "      <td>59758</td>\n",
       "      <td>713</td>\n",
       "    </tr>\n",
       "    <tr>\n",
       "      <th>2</th>\n",
       "      <td>2019-08-02</td>\n",
       "      <td>A</td>\n",
       "      <td>42</td>\n",
       "      <td>36</td>\n",
       "      <td>234381</td>\n",
       "      <td>1338</td>\n",
       "    </tr>\n",
       "    <tr>\n",
       "      <th>3</th>\n",
       "      <td>2019-08-02</td>\n",
       "      <td>B</td>\n",
       "      <td>40</td>\n",
       "      <td>39</td>\n",
       "      <td>221801</td>\n",
       "      <td>1294</td>\n",
       "    </tr>\n",
       "    <tr>\n",
       "      <th>4</th>\n",
       "      <td>2019-08-03</td>\n",
       "      <td>A</td>\n",
       "      <td>66</td>\n",
       "      <td>60</td>\n",
       "      <td>346854</td>\n",
       "      <td>1845</td>\n",
       "    </tr>\n",
       "  </tbody>\n",
       "</table>\n",
       "</div>"
      ],
      "text/plain": [
       "        date group  orders  buyers  revenue  visitors\n",
       "0 2019-08-01     A      23      19   142779       719\n",
       "1 2019-08-01     B      17      17    59758       713\n",
       "2 2019-08-02     A      42      36   234381      1338\n",
       "3 2019-08-02     B      40      39   221801      1294\n",
       "4 2019-08-03     A      66      60   346854      1845"
      ]
     },
     "execution_count": 45,
     "metadata": {},
     "output_type": "execute_result"
    }
   ],
   "source": [
    "cumulativeData.head()"
   ]
  },
  {
   "cell_type": "code",
   "execution_count": 46,
   "id": "f74203f2-974d-45fa-b752-8dae0fa13a3d",
   "metadata": {},
   "outputs": [
    {
     "name": "stdout",
     "output_type": "stream",
     "text": [
      "2019-08-01 00:00:00\n"
     ]
    },
    {
     "data": {
      "text/plain": [
       "Timestamp('2019-08-31 00:00:00')"
      ]
     },
     "execution_count": 46,
     "metadata": {},
     "output_type": "execute_result"
    }
   ],
   "source": [
    "print(cumulativeData['date'].min())\n",
    "cumulativeData['date'].max()"
   ]
  },
  {
   "cell_type": "markdown",
   "id": "1ee6b9f3-ef3b-443e-816a-123db31670cb",
   "metadata": {},
   "source": [
    "Минимальная и максимальная даты кумулятивного датасета совпадают с аналогичными датами исходного датасета. Кумятивный датасет собран корректно."
   ]
  },
  {
   "cell_type": "markdown",
   "id": "2f08a5ba-ba25-4a36-9ff0-edb9811c04eb",
   "metadata": {},
   "source": [
    "Разобьем кумулятивный датасет по выручке на два по группам:"
   ]
  },
  {
   "cell_type": "code",
   "execution_count": 47,
   "id": "a417359e-26b1-40ca-b0af-cd7acb3e1d4c",
   "metadata": {},
   "outputs": [],
   "source": [
    "cumulativeRevenueA = cumulativeData.query('group==\"A\"')[['date','revenue', 'orders']]\n",
    "cumulativeRevenueB = cumulativeData.query('group==\"B\"')[['date','revenue', 'orders']]"
   ]
  },
  {
   "cell_type": "markdown",
   "id": "6dec83ac-60db-4140-98ae-70d67f2191b6",
   "metadata": {},
   "source": [
    "Построим график кумулятивной выручки по группам:"
   ]
  },
  {
   "cell_type": "code",
   "execution_count": 48,
   "id": "5a7856c0-e920-400b-87eb-4153c0cb57e1",
   "metadata": {},
   "outputs": [
    {
     "data": {
      "image/png": "[encoded data removed]",
      "text/plain": [
       "<Figure size 700x500 with 1 Axes>"
      ]
     },
     "metadata": {},
     "output_type": "display_data"
    }
   ],
   "source": [
    "fig, ax = plt.subplots(figsize=(7,5))                                                         \n",
    "ax.plot(cumulativeRevenueA['date'], cumulativeRevenueA['revenue'], label='группа A')\n",
    "ax.plot(cumulativeRevenueB['date'], cumulativeRevenueB['revenue'], label='группа B')\n",
    "fig.autofmt_xdate(rotation=30)\n",
    "ax.set_xlabel('Даты')\n",
    "ax.set_ylabel('Выручка')\n",
    "ax.set_title('Кумулятивная выручка по группам')\n",
    "plt.grid(True)\n",
    "ax.legend()\n",
    "plt.show()"
   ]
  },
  {
   "cell_type": "markdown",
   "id": "3e3f5f7c-0a5b-47b4-b30b-e4c1f902e182",
   "metadata": {},
   "source": [
    "На графике видно, изменения выручки в обеих группах носят практически линейный характер,<br> \n",
    "при этом 19 августа произошел резкий взлет куммулятивной выручки группы В, хотя до этого<br>\n",
    "и после этого никаких сильных колебаний нет ни в группе А, ни в группе В.<br> \n",
    "Скорее всего была совершена либо одна большая покупка, либо много но маленьких. Обратим на это внимание."
   ]
  },
  {
   "cell_type": "markdown",
   "id": "49871b1e-d6ce-4bb0-a413-a92a332f5c24",
   "metadata": {},
   "source": [
    "<a id=\"cum_avg_price_plot\"> </a>\n",
    "#### График кумулятивного среднего чека по группам\n",
    "<a href=\"#section1\">Оглавление</a>"
   ]
  },
  {
   "cell_type": "markdown",
   "id": "8f082c9e-b71b-40fa-9fe0-7e6e1a303adb",
   "metadata": {},
   "source": [
    "Посмотрим на измениения кумулятивного среднего чека и выявим причину резкого роста выручки 19 августа:"
   ]
  },
  {
   "cell_type": "code",
   "execution_count": 49,
   "id": "f6f16ae0-28bc-4dc6-8030-51813fcfb926",
   "metadata": {},
   "outputs": [
    {
     "data": {
      "image/png": "[encoded data removed]",
      "text/plain": [
       "<Figure size 700x500 with 1 Axes>"
      ]
     },
     "metadata": {},
     "output_type": "display_data"
    }
   ],
   "source": [
    "fig, ax = plt.subplots(figsize = (7,5))\n",
    "ax.plot(cumulativeRevenueA['date'], cumulativeRevenueA['revenue']/cumulativeRevenueA['orders'],\n",
    "                                                                                   label='группа A')\n",
    "ax.plot(cumulativeRevenueB['date'], cumulativeRevenueB['revenue']/cumulativeRevenueB['orders'],\n",
    "                                                                                   label='группа B')\n",
    "fig.autofmt_xdate(rotation=30)\n",
    "ax.set_xlabel('Даты')\n",
    "ax.set_ylabel('Средний чек')\n",
    "ax.set_title('Кумулятивный средний чек по группам')\n",
    "plt.grid(True)\n",
    "ax.legend()\n",
    "plt.show()"
   ]
  },
  {
   "cell_type": "markdown",
   "id": "10841e1a-9f05-4f13-ab10-c76e2283639d",
   "metadata": {},
   "source": [
    "Мы видим, что кривые группы А и группы В с переменным успехом росли до чуть менее 7000 к 18 августа.<br>\n",
    "19 августа средний чек группы В резко вырос до примерно 10400, что составляет 150% роста. После чего <br>\n",
    "стал немного \"проседать\" в оставшиеся дни августа. Средний чек группы А продолжил \"слабый\" рост в районе 7000.<br>\n",
    "Резкий рост среднего чека чего говорит о покупках более дорогостоящих товаров."
   ]
  },
  {
   "cell_type": "markdown",
   "id": "78773bdb-6550-452e-a846-3d3ee33363cf",
   "metadata": {},
   "source": [
    "<a id=\"rel_avg_plot\"> </a>\n",
    "#### График относительного изменения кумулятивного среднего чека\n",
    "<a href=\"#section1\">Оглавление</a>"
   ]
  },
  {
   "cell_type": "markdown",
   "id": "e963653c-ffca-4ba6-a3fc-6a194c3d7405",
   "metadata": {},
   "source": [
    "Объеденим датасеты по группам в один для удобства расчетов:"
   ]
  },
  {
   "cell_type": "code",
   "execution_count": 50,
   "id": "9d9acee4-50e0-4f1e-82ce-17393d3f63c3",
   "metadata": {},
   "outputs": [],
   "source": [
    "mergedCumulativeRevenue = cumulativeRevenueA.merge(cumulativeRevenueB, left_on='date', \n",
    "                                                   right_on='date', how='left', suffixes=['A', 'B'])"
   ]
  },
  {
   "cell_type": "code",
   "execution_count": 51,
   "id": "6c5e2aa7-870d-4844-8294-6b5ab8cd29fa",
   "metadata": {},
   "outputs": [
    {
     "data": {
      "image/png": "[encoded data removed]",
      "text/plain": [
       "<Figure size 700x500 with 1 Axes>"
      ]
     },
     "metadata": {},
     "output_type": "display_data"
    }
   ],
   "source": [
    "fig, ax = plt.subplots(figsize=(7,5))\n",
    "ax.plot(mergedCumulativeRevenue['date'], (mergedCumulativeRevenue['revenueB']/mergedCumulativeRevenue['ordersB'])/(\n",
    "                                          mergedCumulativeRevenue['revenueA']/mergedCumulativeRevenue['ordersA'])-1)\n",
    "fig.autofmt_xdate(rotation=30)\n",
    "ax.set_xlabel('Даты')\n",
    "ax.set_ylabel('Относительный средний чек')\n",
    "ax.set_title('Относительное изменение среднего чека гр.В к гр.А ')\n",
    "plt.grid(True)\n",
    "ax.axhline(y=0, color='red', linestyle='--') \n",
    "plt.show()"
   ]
  },
  {
   "cell_type": "markdown",
   "id": "b1b853c1-ff44-4be5-96e3-417bfd4e5d79",
   "metadata": {},
   "source": [
    "Мы видим, что в нескольких точках колебания среднего чека группы В имеют очень сильные колебания<br>\n",
    "Скоррее всего в эти даты были сделаны какие-то очень большие покупки."
   ]
  },
  {
   "cell_type": "markdown",
   "id": "98ad2dd0-12ef-49a9-9f11-72b52505e93e",
   "metadata": {},
   "source": [
    "<a id=\"cum_avg_order_qty_plot\"> </a>\n",
    "#### График кумулятивного среднего количества заказов\n",
    "<a href=\"#section1\">Оглавление</a>"
   ]
  },
  {
   "cell_type": "markdown",
   "id": "7bb2ddd0-aa67-4b21-a942-2328a8625466",
   "metadata": {},
   "source": [
    "Разобьем кумулятивный датасет на два по группам и полями 'date', 'orders', 'visitors':"
   ]
  },
  {
   "cell_type": "code",
   "execution_count": 52,
   "id": "997c277d-2dfe-442b-b87f-6f1b33c10a29",
   "metadata": {},
   "outputs": [],
   "source": [
    "cumulativeOrdersA = cumulativeData.query('group==\"A\"')[['date', 'orders', 'visitors']]\n",
    "cumulativeOrdersB = cumulativeData.query('group==\"B\"')[['date', 'orders', 'visitors']]"
   ]
  },
  {
   "cell_type": "markdown",
   "id": "494367f3-e01f-4c24-9ce9-4afb463261b0",
   "metadata": {},
   "source": [
    "Построим график кумулятивное среднее кол-во заказов:"
   ]
  },
  {
   "cell_type": "code",
   "execution_count": 53,
   "id": "5e1c1d05-54eb-4be0-927f-16210b4fb8f0",
   "metadata": {},
   "outputs": [
    {
     "data": {
      "image/png": "[encoded data removed]",
      "text/plain": [
       "<Figure size 700x500 with 1 Axes>"
      ]
     },
     "metadata": {},
     "output_type": "display_data"
    }
   ],
   "source": [
    "fig, ax = plt.subplots(figsize = (7,5))\n",
    "ax.plot(cumulativeOrdersA['date'], cumulativeOrdersA['orders']/cumulativeOrdersA['visitors'],\n",
    "                                                                                   label='группа A')\n",
    "ax.plot(cumulativeOrdersB['date'], cumulativeOrdersB['orders']/cumulativeOrdersB['visitors'],\n",
    "                                                                                   label='группа B')\n",
    "fig.autofmt_xdate(rotation=30)\n",
    "ax.set_xlabel('Даты')\n",
    "ax.set_ylabel('Среднее кол-во заказаов на поситителя')\n",
    "ax.set_title('Кумулятивное среднее кол-во заказов')\n",
    "ax.axhline(y=0.0253, color='blue', linestyle='--') \n",
    "ax.axhline(y=0.029, color='orange', linestyle='--') \n",
    "plt.grid(True)\n",
    "plt.yticks([0.024, 0.0253, 0.026, 0.028, 0.029, 0.030, 0.032, 0.034, 0.036],\n",
    "            ['0.024', '0.0253', '0.026', '0.028', '0.029', '0.030', '0.032', '0.034', '0.036'])\n",
    "ax.legend()\n",
    "plt.show()"
   ]
  },
  {
   "cell_type": "markdown",
   "id": "ea4bc54e-95dc-4ef9-93d1-cd3d973b838d",
   "metadata": {},
   "source": [
    "В первую декаду августа среднее кол-во заказов на посетителя что группе А, что в группе В сильно колебалось<br>\n",
    "Однако уже после первой декады колебания значительно уменьшились и происходили вокруг значения 0.0253 в группе А<br>\n",
    "и рядом с значением 0.029 в группе В. За исключением первых 7 дней теста группа В по данному параметру была лучше группы А<br> "
   ]
  },
  {
   "cell_type": "markdown",
   "id": "4bc2111a-4402-41c4-bb26-d3fcc8280286",
   "metadata": {},
   "source": [
    "<a id=\"rel_cum_avg_order_qty\"> </a>\n",
    "#### График относительного изменения кумулятивного среднего количества заказов\n",
    "<a href=\"#section1\">Оглавление</a>"
   ]
  },
  {
   "cell_type": "markdown",
   "id": "52d1cfc2-71fd-40f8-8f17-6c6b4c4598c5",
   "metadata": {},
   "source": [
    "Соберем групповые датасеты в один для удобства расчетов:"
   ]
  },
  {
   "cell_type": "code",
   "execution_count": 54,
   "id": "6cf84384-83dd-47fb-a891-088c8eef391c",
   "metadata": {},
   "outputs": [],
   "source": [
    "mergedCumulativeOrders = cumulativeOrdersA.merge(cumulativeOrdersB, left_on='date', \n",
    "                                                   right_on='date', how='left', suffixes=['A', 'B'])"
   ]
  },
  {
   "cell_type": "code",
   "execution_count": 55,
   "id": "5ee8a676-3754-4c22-b41c-5e17462573ee",
   "metadata": {},
   "outputs": [
    {
     "data": {
      "text/plain": [
       "Index(['date', 'ordersA', 'visitorsA', 'ordersB', 'visitorsB'], dtype='object')"
      ]
     },
     "execution_count": 55,
     "metadata": {},
     "output_type": "execute_result"
    }
   ],
   "source": [
    "mergedCumulativeOrders.columns"
   ]
  },
  {
   "cell_type": "code",
   "execution_count": 56,
   "id": "1ac11151-2aeb-41a5-8676-915f924d3fa8",
   "metadata": {},
   "outputs": [
    {
     "data": {
      "image/png": "[encoded data removed]",
      "text/plain": [
       "<Figure size 700x500 with 1 Axes>"
      ]
     },
     "metadata": {},
     "output_type": "display_data"
    }
   ],
   "source": [
    "fig, ax = plt.subplots(figsize=(7,5))\n",
    "ax.plot(mergedCumulativeOrders['date'], (mergedCumulativeOrders['ordersB']/mergedCumulativeOrders['visitorsB'])/(\n",
    "                                         mergedCumulativeOrders['ordersA']/mergedCumulativeOrders['visitorsA'])-1)\n",
    "fig.autofmt_xdate(rotation=30)\n",
    "ax.set_xlabel('Даты')\n",
    "ax.set_ylabel('Относительное среднее кол-во заказов')\n",
    "ax.set_title('Относительное изменение среднего кол-ва заказов гр.В к гр.А ')\n",
    "plt.grid(True)\n",
    "ax.axhline(y=0, color='red', linestyle='--') \n",
    "plt.show()"
   ]
  },
  {
   "cell_type": "markdown",
   "id": "7b09811e-13a5-4a4d-a1ff-7d84a031f490",
   "metadata": {},
   "source": [
    "В первую неделю августа относительное среднее кол-во заказов было значительно ниже нулевой отметки<br>\n",
    "Затем произошел резкий скачок вверх и относильное среднее кол-ва заказов превысило значение нуля.<br> \n",
    ". После 20 августа даты началось небольшое снижение показателя."
   ]
  },
  {
   "cell_type": "markdown",
   "id": "8011ef41-666d-41b7-92c1-2aa2b5223cb8",
   "metadata": {},
   "source": [
    "<a id=\"order_qty_scatter_plot\"> </a>\n",
    "#### Точечный график количества заказов по пользователям\n",
    "<a href=\"#section1\">Оглавление</a>"
   ]
  },
  {
   "cell_type": "markdown",
   "id": "3d5f444b-c516-4f5a-ae17-1d343dbae12f",
   "metadata": {},
   "source": [
    "Создадим датасет с группировкой по пользователям и агрегрированными данными по кол-ву заказов "
   ]
  },
  {
   "cell_type": "code",
   "execution_count": 57,
   "id": "3a57376c-743d-4f0c-8c52-36d5ed1118eb",
   "metadata": {},
   "outputs": [],
   "source": [
    "ordersByUsers = (df_ord.groupby('visitorId', as_index=False).agg({'transactionId': 'nunique'}))\n",
    "ordersByUsers.columns = ['userId', 'orders']"
   ]
  },
  {
   "cell_type": "markdown",
   "id": "3c8da24b-70f1-4fff-b27a-f44e42e4ec86",
   "metadata": {},
   "source": [
    "Построим график кол-во заказов по пользователям:"
   ]
  },
  {
   "cell_type": "code",
   "execution_count": 58,
   "id": "9992eb17-59fb-457d-92a2-7019a77eefd4",
   "metadata": {},
   "outputs": [
    {
     "data": {
      "image/png": "[encoded data removed]",
      "text/plain": [
       "<Figure size 700x500 with 1 Axes>"
      ]
     },
     "metadata": {},
     "output_type": "display_data"
    }
   ],
   "source": [
    "x_values = range(len(ordersByUsers))\n",
    "fig, ax = plt.subplots(figsize=(7,5))\n",
    "ax.scatter(x_values, ordersByUsers['orders'])\n",
    "ax.set_xlabel('Пользователи')\n",
    "ax.set_ylabel('Кол-во заказов')\n",
    "ax.set_title('Кол-во заказов на пользователя')\n",
    "plt.grid(True)\n",
    "plt.show()"
   ]
  },
  {
   "cell_type": "markdown",
   "id": "f1113df5-7a72-45ea-bde9-487a3bee5b21",
   "metadata": {},
   "source": [
    "Как мы видим основная масса пользователей делает по 1 заказу, также есть достаточно много пользователей,<br>\n",
    "которые делают по 2 и 3 заказа, но являются ли они выбросами мы пока сказать на можем.<br>\n",
    "Посчитаем персентили 95 и 99 и примем решение по аномалиям."
   ]
  },
  {
   "cell_type": "markdown",
   "id": "2227f6c5-c036-4b17-86ac-0287bf52f8ee",
   "metadata": {},
   "source": [
    "<a id=\"orders_percentiles\"> </a>\n",
    "#### 95-й и 99-й перцентили количества заказов на пользователя\n",
    "<a href=\"#section1\">Оглавление</a>"
   ]
  },
  {
   "cell_type": "code",
   "execution_count": 59,
   "id": "3231106b-f0fc-4102-bf37-3b25c35b8075",
   "metadata": {},
   "outputs": [
    {
     "name": "stdout",
     "output_type": "stream",
     "text": [
      "95% пользователей делают по 1.0 заказу(а) и только 1% делают 2.0 заказа(ов) и более.\n"
     ]
    }
   ],
   "source": [
    "perc_ord9 = np.percentile(ordersByUsers['orders'], [95, 99])\n",
    "print(f'95% пользователей делают по {perc_ord9[0]} заказу(а) и только 1% делают {perc_ord9[1]} заказа(ов) и более.')"
   ]
  },
  {
   "cell_type": "markdown",
   "id": "a4a64236-d70e-42a6-81d7-678ed1bfa4ce",
   "metadata": {},
   "source": [
    "***Таким образом, мы можем принять все кол-ва заказов выше 2 как аномальные.***"
   ]
  },
  {
   "cell_type": "markdown",
   "id": "fe01aea3-0282-4ca7-98e4-668b0b0a4725",
   "metadata": {},
   "source": [
    "<a id=\"order_price_scatter_plot\"> </a>\n",
    "#### Точечный график стоимостей заказов\n",
    "<a href=\"#section1\">Оглавление</a>"
   ]
  },
  {
   "cell_type": "markdown",
   "id": "3b755450-9200-48ea-b1d9-64fb7faa180c",
   "metadata": {},
   "source": [
    "Создадим датасет по стоимости заказов, для этого сгруппируем данные по номеру заказа и посчитаем их сумму:"
   ]
  },
  {
   "cell_type": "code",
   "execution_count": 60,
   "id": "d4389d83-cbce-40aa-9a4f-c1b41959ebb8",
   "metadata": {},
   "outputs": [],
   "source": [
    "revenueByorders = (df_ord.groupby('transactionId', as_index=False).agg({'revenue': 'sum'}))\n",
    "ordersByUsers.columns = ['orders', 'revenue']"
   ]
  },
  {
   "cell_type": "markdown",
   "id": "88946e2e-a441-43c0-8bdb-bce227e4659c",
   "metadata": {},
   "source": [
    "Построим график распределения стоимости заказов:"
   ]
  },
  {
   "cell_type": "code",
   "execution_count": 61,
   "id": "7ddaa740-186c-4cce-990a-7a340d61fd90",
   "metadata": {},
   "outputs": [
    {
     "data": {
      "image/png": "[encoded data removed]",
      "text/plain": [
       "<Figure size 1100x500 with 2 Axes>"
      ]
     },
     "metadata": {},
     "output_type": "display_data"
    }
   ],
   "source": [
    "x_values = range(len(revenueByorders))\n",
    "ylim_l = ['', (0,60000)]\n",
    "fig, axs = plt.subplots(1, 2, figsize=(11, 5))\n",
    "for i, ax in enumerate(axs.flat):    \n",
    "    ax.scatter(x_values, revenueByorders['revenue'])\n",
    "    ax.set_xlabel('Заказы')\n",
    "    ax.set_ylabel('Стоимость заказов')\n",
    "    ax.set_title('Стоимость заказов')\n",
    "    ax.yaxis.grid(True)\n",
    "    ax.xaxis.grid(True)\n",
    "    ax.set_ylim(*ylim_l[i])\n",
    "plt.show()"
   ]
  },
  {
   "cell_type": "markdown",
   "id": "9b705355-0b6f-4a95-82f2-292fca899d0f",
   "metadata": {},
   "source": [
    "Как мы видим по левому графику стоимость заказов в основном не превышает 100000р, при этом есть 2 заказа,<br>\n",
    "которые демонстрируют сильные выбросы: один заказ стоимостью около 1.3 млн руб, второй 200 000 руб. Что экстримально<br> \n",
    "выше остальных стоимости заказов.<br>\n",
    "Правый график позволяет сделат более точную оценку стоимости заказов  в основном в пределах 10000 руб.<br>\n",
    "При этом достаточно много заказов стоимостью от 10000 до 30000 руб. и не понятно можем ли мы их принять за аномалии.<br>\n",
    "Посчитаем персентили 95 и 99 и примем решение по аномалиям."
   ]
  },
  {
   "cell_type": "markdown",
   "id": "aa2e82d8-e5a4-428f-bd89-db89f5d53950",
   "metadata": {},
   "source": [
    "<a id=\"order_price_percentiles\"> </a>\n",
    "#### 95-й и 99-й перцентили стоимости заказов\n",
    "<a href=\"#section1\">Оглавление</a>"
   ]
  },
  {
   "cell_type": "code",
   "execution_count": 62,
   "id": "eec24cc5-cdb4-4f29-b428-f202df97cc50",
   "metadata": {},
   "outputs": [
    {
     "name": "stdout",
     "output_type": "stream",
     "text": [
      " у 95% заказов стоимость в среднем составляет не более 26785.0 руб.и только у 1% стоимость составляет 53904.0 руб. и более\n"
     ]
    }
   ],
   "source": [
    "perc_rev_by_ord9 = np.percentile(revenueByorders['revenue'], [95, 99])\n",
    "print(f' у 95% заказов стоимость в среднем составляет не более {round(perc_rev_by_ord9[0],1)} руб.\\\n",
    "и только у 1% стоимость составляет {round(perc_rev_by_ord9[1], 1)} руб. и более')"
   ]
  },
  {
   "cell_type": "markdown",
   "id": "79292ff4-07cc-4c98-b18a-9ad4542f88b3",
   "metadata": {},
   "source": [
    "***Таким образом, мы можем считать все все заказы стоимостью выше 53900руб. аномалиями.***"
   ]
  },
  {
   "cell_type": "markdown",
   "id": "9bc6a927-4c21-40c6-b534-dc7d0fe866b0",
   "metadata": {},
   "source": [
    "<a id=\"raw_data\"> </a>\n",
    "#### Статистическая значимость различий между группами по «сырым» данным.\n",
    "<a href=\"#section1\">Оглавление</a>"
   ]
  },
  {
   "cell_type": "markdown",
   "id": "cd201ce5-4b09-4790-8215-71be657711d6",
   "metadata": {},
   "source": [
    "Подготовим данные для оценки статистической значимости:"
   ]
  },
  {
   "cell_type": "markdown",
   "id": "b3a190fd-28cb-423d-b24c-5ae0864baaea",
   "metadata": {},
   "source": [
    "Создадим датасеты по заказам разбитые по группам А и В:"
   ]
  },
  {
   "cell_type": "code",
   "execution_count": 63,
   "id": "162c0123-e380-49aa-bc07-2919cc5cb1be",
   "metadata": {},
   "outputs": [],
   "source": [
    "ordA = df_ord.query('group==\"A\"')\n",
    "ordB = df_ord.query('group==\"B\"')"
   ]
  },
  {
   "cell_type": "markdown",
   "id": "5c571acc-7ac6-4080-93bf-a3fe0d221243",
   "metadata": {},
   "source": [
    "Создадим датасеты по заказам с разбивкой по группам А и В с информацией по дням:"
   ]
  },
  {
   "cell_type": "code",
   "execution_count": 65,
   "id": "2f044fd8-45da-4e32-a035-83d26c3d276b",
   "metadata": {},
   "outputs": [],
   "source": [
    "daily_ordA = ordA.groupby('date', as_index=False).agg({'transactionId':'nunique', 'revenue':'sum'})\n",
    "daily_ordA.columns = ['date', 'ordersPerDateA', 'revenuePerDateA']"
   ]
  },
  {
   "cell_type": "code",
   "execution_count": 66,
   "id": "6cf6f721-1045-4483-a2cc-6b5ddd717197",
   "metadata": {},
   "outputs": [],
   "source": [
    "daily_ordB = ordB.groupby('date', as_index=False).agg({'transactionId':'nunique', 'revenue':'sum'})\n",
    "daily_ordB.columns = ['date', 'ordersPerDateB', 'revenuePerDateB']"
   ]
  },
  {
   "cell_type": "markdown",
   "id": "c1233732-2dfa-4111-9683-1c2bc9a6b47a",
   "metadata": {},
   "source": [
    "Создадим датасеты по посетителям с разбивкой на группы А и В с информацией по дням"
   ]
  },
  {
   "cell_type": "code",
   "execution_count": 67,
   "id": "799dd5f7-c2a9-4638-8487-7a53dbb3789d",
   "metadata": {},
   "outputs": [],
   "source": [
    "daily_visA = df_vis.query('group == \"A\"')[['date', 'visitors']]\n",
    "daily_visB = df_vis.query('group == \"B\"')[['date', 'visitors']]\n",
    "daily_visA.columns = ['date', 'visitorsPerDateA']\n",
    "daily_visB.columns = ['date', 'visitorsPerDateB']"
   ]
  },
  {
   "cell_type": "markdown",
   "id": "101e27a5-6dd7-4230-9b9c-3e676186657a",
   "metadata": {},
   "source": [
    "Создадим кумулятивные датасеты по группам А и В:"
   ]
  },
  {
   "cell_type": "code",
   "execution_count": 68,
   "id": "937e3039-d480-4108-8a66-fc48fa10d808",
   "metadata": {},
   "outputs": [],
   "source": [
    "cumulativeA = cumulativeData.query('group == \"A\"')[['date', 'orders', 'buyers', 'revenue', 'visitors']]\n",
    "cumulativeB = cumulativeData.query('group == \"B\"')[['date', 'orders', 'buyers', 'revenue', 'visitors']]\n",
    "cumulativeA.columns = ['date', 'ordersCumA', 'buyersCumA', 'revenueCumA', 'visitorsCumA']\n",
    "cumulativeB.columns = ['date', 'ordersCumB', 'buyersCumB', 'revenueCumB', 'visitorsCumB']"
   ]
  },
  {
   "cell_type": "code",
   "execution_count": 69,
   "id": "198b2ce9-03c9-40db-9179-0be997894461",
   "metadata": {},
   "outputs": [
    {
     "data": {
      "text/html": [
       "<div>\n",
       "<style scoped>\n",
       "    .dataframe tbody tr th:only-of-type {\n",
       "        vertical-align: middle;\n",
       "    }\n",
       "\n",
       "    .dataframe tbody tr th {\n",
       "        vertical-align: top;\n",
       "    }\n",
       "\n",
       "    .dataframe thead th {\n",
       "        text-align: right;\n",
       "    }\n",
       "</style>\n",
       "<table border=\"1\" class=\"dataframe\">\n",
       "  <thead>\n",
       "    <tr style=\"text-align: right;\">\n",
       "      <th></th>\n",
       "      <th>date</th>\n",
       "      <th>ordersCumB</th>\n",
       "      <th>buyersCumB</th>\n",
       "      <th>revenueCumB</th>\n",
       "      <th>visitorsCumB</th>\n",
       "    </tr>\n",
       "  </thead>\n",
       "  <tbody>\n",
       "    <tr>\n",
       "      <th>1</th>\n",
       "      <td>2019-08-01</td>\n",
       "      <td>17</td>\n",
       "      <td>17</td>\n",
       "      <td>59758</td>\n",
       "      <td>713</td>\n",
       "    </tr>\n",
       "    <tr>\n",
       "      <th>3</th>\n",
       "      <td>2019-08-02</td>\n",
       "      <td>40</td>\n",
       "      <td>39</td>\n",
       "      <td>221801</td>\n",
       "      <td>1294</td>\n",
       "    </tr>\n",
       "    <tr>\n",
       "      <th>5</th>\n",
       "      <td>2019-08-03</td>\n",
       "      <td>54</td>\n",
       "      <td>53</td>\n",
       "      <td>288850</td>\n",
       "      <td>1803</td>\n",
       "    </tr>\n",
       "    <tr>\n",
       "      <th>7</th>\n",
       "      <td>2019-08-04</td>\n",
       "      <td>68</td>\n",
       "      <td>66</td>\n",
       "      <td>385740</td>\n",
       "      <td>2573</td>\n",
       "    </tr>\n",
       "    <tr>\n",
       "      <th>9</th>\n",
       "      <td>2019-08-05</td>\n",
       "      <td>89</td>\n",
       "      <td>87</td>\n",
       "      <td>475648</td>\n",
       "      <td>3280</td>\n",
       "    </tr>\n",
       "  </tbody>\n",
       "</table>\n",
       "</div>"
      ],
      "text/plain": [
       "        date  ordersCumB  buyersCumB  revenueCumB  visitorsCumB\n",
       "1 2019-08-01          17          17        59758           713\n",
       "3 2019-08-02          40          39       221801          1294\n",
       "5 2019-08-03          54          53       288850          1803\n",
       "7 2019-08-04          68          66       385740          2573\n",
       "9 2019-08-05          89          87       475648          3280"
      ]
     },
     "execution_count": 69,
     "metadata": {},
     "output_type": "execute_result"
    }
   ],
   "source": [
    "cumulativeB.head()"
   ]
  },
  {
   "cell_type": "markdown",
   "id": "fbc14e41-81cd-402b-bfa0-f57015bc0ff3",
   "metadata": {},
   "source": [
    "Объединим все созданные выше датасеты в один:"
   ]
  },
  {
   "cell_type": "code",
   "execution_count": 70,
   "id": "c219cd13-0a23-484e-951f-98717f51950d",
   "metadata": {},
   "outputs": [],
   "source": [
    "full_data = daily_ordA.merge(daily_ordB, on='date', how='left'\n",
    "                     ).merge(daily_visA,  on='date', how='left'\n",
    "                     ).merge(daily_visB,  on='date', how='left'\n",
    "                     ).merge(cumulativeA, on='date', how='left'\n",
    "                     ).merge(cumulativeB, on='date', how='left')        "
   ]
  },
  {
   "cell_type": "code",
   "execution_count": 71,
   "id": "6455be72-7913-42a2-ba6a-ce46a94e2323",
   "metadata": {},
   "outputs": [
    {
     "data": {
      "text/html": [
       "<div>\n",
       "<style scoped>\n",
       "    .dataframe tbody tr th:only-of-type {\n",
       "        vertical-align: middle;\n",
       "    }\n",
       "\n",
       "    .dataframe tbody tr th {\n",
       "        vertical-align: top;\n",
       "    }\n",
       "\n",
       "    .dataframe thead th {\n",
       "        text-align: right;\n",
       "    }\n",
       "</style>\n",
       "<table border=\"1\" class=\"dataframe\">\n",
       "  <thead>\n",
       "    <tr style=\"text-align: right;\">\n",
       "      <th></th>\n",
       "      <th>date</th>\n",
       "      <th>ordersPerDateA</th>\n",
       "      <th>revenuePerDateA</th>\n",
       "      <th>ordersPerDateB</th>\n",
       "      <th>revenuePerDateB</th>\n",
       "      <th>visitorsPerDateA</th>\n",
       "      <th>visitorsPerDateB</th>\n",
       "      <th>ordersCumA</th>\n",
       "      <th>buyersCumA</th>\n",
       "      <th>revenueCumA</th>\n",
       "      <th>visitorsCumA</th>\n",
       "      <th>ordersCumB</th>\n",
       "      <th>buyersCumB</th>\n",
       "      <th>revenueCumB</th>\n",
       "      <th>visitorsCumB</th>\n",
       "    </tr>\n",
       "  </thead>\n",
       "  <tbody>\n",
       "    <tr>\n",
       "      <th>0</th>\n",
       "      <td>2019-08-01</td>\n",
       "      <td>23</td>\n",
       "      <td>142779</td>\n",
       "      <td>17</td>\n",
       "      <td>59758</td>\n",
       "      <td>719</td>\n",
       "      <td>713</td>\n",
       "      <td>23</td>\n",
       "      <td>19</td>\n",
       "      <td>142779</td>\n",
       "      <td>719</td>\n",
       "      <td>17</td>\n",
       "      <td>17</td>\n",
       "      <td>59758</td>\n",
       "      <td>713</td>\n",
       "    </tr>\n",
       "    <tr>\n",
       "      <th>1</th>\n",
       "      <td>2019-08-02</td>\n",
       "      <td>19</td>\n",
       "      <td>91602</td>\n",
       "      <td>23</td>\n",
       "      <td>162043</td>\n",
       "      <td>619</td>\n",
       "      <td>581</td>\n",
       "      <td>42</td>\n",
       "      <td>36</td>\n",
       "      <td>234381</td>\n",
       "      <td>1338</td>\n",
       "      <td>40</td>\n",
       "      <td>39</td>\n",
       "      <td>221801</td>\n",
       "      <td>1294</td>\n",
       "    </tr>\n",
       "    <tr>\n",
       "      <th>2</th>\n",
       "      <td>2019-08-03</td>\n",
       "      <td>24</td>\n",
       "      <td>112473</td>\n",
       "      <td>14</td>\n",
       "      <td>67049</td>\n",
       "      <td>507</td>\n",
       "      <td>509</td>\n",
       "      <td>66</td>\n",
       "      <td>60</td>\n",
       "      <td>346854</td>\n",
       "      <td>1845</td>\n",
       "      <td>54</td>\n",
       "      <td>53</td>\n",
       "      <td>288850</td>\n",
       "      <td>1803</td>\n",
       "    </tr>\n",
       "    <tr>\n",
       "      <th>3</th>\n",
       "      <td>2019-08-04</td>\n",
       "      <td>11</td>\n",
       "      <td>41176</td>\n",
       "      <td>14</td>\n",
       "      <td>96890</td>\n",
       "      <td>717</td>\n",
       "      <td>770</td>\n",
       "      <td>77</td>\n",
       "      <td>71</td>\n",
       "      <td>388030</td>\n",
       "      <td>2562</td>\n",
       "      <td>68</td>\n",
       "      <td>66</td>\n",
       "      <td>385740</td>\n",
       "      <td>2573</td>\n",
       "    </tr>\n",
       "    <tr>\n",
       "      <th>4</th>\n",
       "      <td>2019-08-05</td>\n",
       "      <td>22</td>\n",
       "      <td>86383</td>\n",
       "      <td>21</td>\n",
       "      <td>89908</td>\n",
       "      <td>756</td>\n",
       "      <td>707</td>\n",
       "      <td>99</td>\n",
       "      <td>92</td>\n",
       "      <td>474413</td>\n",
       "      <td>3318</td>\n",
       "      <td>89</td>\n",
       "      <td>87</td>\n",
       "      <td>475648</td>\n",
       "      <td>3280</td>\n",
       "    </tr>\n",
       "  </tbody>\n",
       "</table>\n",
       "</div>"
      ],
      "text/plain": [
       "        date  ordersPerDateA  revenuePerDateA  ordersPerDateB  \\\n",
       "0 2019-08-01              23           142779              17   \n",
       "1 2019-08-02              19            91602              23   \n",
       "2 2019-08-03              24           112473              14   \n",
       "3 2019-08-04              11            41176              14   \n",
       "4 2019-08-05              22            86383              21   \n",
       "\n",
       "   revenuePerDateB  visitorsPerDateA  visitorsPerDateB  ordersCumA  \\\n",
       "0            59758               719               713          23   \n",
       "1           162043               619               581          42   \n",
       "2            67049               507               509          66   \n",
       "3            96890               717               770          77   \n",
       "4            89908               756               707          99   \n",
       "\n",
       "   buyersCumA  revenueCumA  visitorsCumA  ordersCumB  buyersCumB  revenueCumB  \\\n",
       "0          19       142779           719          17          17        59758   \n",
       "1          36       234381          1338          40          39       221801   \n",
       "2          60       346854          1845          54          53       288850   \n",
       "3          71       388030          2562          68          66       385740   \n",
       "4          92       474413          3318          89          87       475648   \n",
       "\n",
       "   visitorsCumB  \n",
       "0           713  \n",
       "1          1294  \n",
       "2          1803  \n",
       "3          2573  \n",
       "4          3280  "
      ]
     },
     "execution_count": 71,
     "metadata": {},
     "output_type": "execute_result"
    }
   ],
   "source": [
    "full_data.head()"
   ]
  },
  {
   "cell_type": "markdown",
   "id": "0ac47181-db23-4602-a909-4ec6b875c5ec",
   "metadata": {},
   "source": [
    "Создадим датасет с информацией о пользователях, сделавших хотя бы один заказ - группа А:"
   ]
  },
  {
   "cell_type": "code",
   "execution_count": 72,
   "id": "1e529c5d-edce-4837-9e6c-5bd44c1e72b1",
   "metadata": {},
   "outputs": [],
   "source": [
    "ordersByUsersA = (df_ord[df_ord['group'] == 'A'].groupby('visitorId', as_index=False)\n",
    "                                                .agg({'transactionId': 'nunique'}))\n",
    "ordersByUsersA.columns = ['userId', 'orders']"
   ]
  },
  {
   "cell_type": "markdown",
   "id": "eadcef46-6692-4586-a6d7-cf9cecc44b80",
   "metadata": {},
   "source": [
    "Создадим массив с данными по заказам - у клиентов указано кол-во сделанных заказов, у тех кто ничего не заказывал стоят нули."
   ]
  },
  {
   "cell_type": "code",
   "execution_count": 73,
   "id": "8be272bd-fa4d-4565-9d78-e585c8df30ec",
   "metadata": {},
   "outputs": [],
   "source": [
    "sampleA = pd.concat([ordersByUsersA['orders'],pd.Series(0, index=np.arange(full_data['visitorsPerDateA'].sum() - \n",
    "                                                           len(ordersByUsersA['orders'])), name='orders')],axis=0)\n"
   ]
  },
  {
   "cell_type": "markdown",
   "id": "219ded2c-3564-42ee-ad1e-c6f0c4252841",
   "metadata": {},
   "source": [
    "Создадим датасет с информацией о пользователях, сделавших хотя бы один заказ - группа :"
   ]
  },
  {
   "cell_type": "code",
   "execution_count": 74,
   "id": "3efdb96a-e8c0-4462-b0d8-baba3cd9524a",
   "metadata": {},
   "outputs": [],
   "source": [
    "ordersByUsersB = (df_ord[df_ord['group'] == 'B'].groupby('visitorId', as_index=False)\n",
    "                                                .agg({'transactionId': 'nunique'}))\n",
    "ordersByUsersB.columns = ['userId', 'orders']"
   ]
  },
  {
   "cell_type": "markdown",
   "id": "9863989f-35c5-4de7-875a-364c82a4a40e",
   "metadata": {},
   "source": [
    "Создадим массив с данными по заказам - у клиентов указано кол-во сделанных заказов, у тех кто ничего не заказывал стоят нули."
   ]
  },
  {
   "cell_type": "code",
   "execution_count": 75,
   "id": "afc1ee71-8e08-497f-8b7b-93b34ebef62e",
   "metadata": {},
   "outputs": [],
   "source": [
    "sampleB = pd.concat([ordersByUsersB['orders'],pd.Series(0, index=np.arange(full_data['visitorsPerDateB'].sum() - \n",
    "                                                           len(ordersByUsersB['orders'])), name='orders')],axis=0)"
   ]
  },
  {
   "cell_type": "markdown",
   "id": "1c49e7b4-8872-44d9-ae73-0c1e342ccd26",
   "metadata": {},
   "source": [
    "<a id=\"p_orders_calc\"> </a>\n",
    "##### Расчет значений *p-value* для заказов и относительного прироста среднего числа заказов группы B:\n",
    "<a href=\"#section1\">Оглавление</a>"
   ]
  },
  {
   "cell_type": "markdown",
   "id": "22beeb75-c572-4049-a69e-d3d01e1fd0f9",
   "metadata": {},
   "source": [
    "Произведем расчет p-value с помощью непараметрического теста Манна-Уитни:"
   ]
  },
  {
   "cell_type": "code",
   "execution_count": 76,
   "id": "ef56a63a-467b-4904-a251-640f49b7576d",
   "metadata": {},
   "outputs": [
    {
     "name": "stdout",
     "output_type": "stream",
     "text": [
      "0.011\n"
     ]
    }
   ],
   "source": [
    "print(\"{0:.3f}\".format(st.mannwhitneyu(sampleA, sampleB)[1]))"
   ]
  },
  {
   "cell_type": "markdown",
   "id": "77b35c5c-cfc9-4ac4-a1e2-5d6f30293b07",
   "metadata": {},
   "source": [
    "**Значение** *p-value* **меньше 0.05 Значит нулевую гипотезу мы отвергаем и считаем, что<br>\n",
    "значимые различия между средними заказами группы А и группы В есть.**"
   ]
  },
  {
   "cell_type": "code",
   "execution_count": 77,
   "id": "a735d6cb-af19-48e9-865c-01aca0b8db8e",
   "metadata": {},
   "outputs": [
    {
     "name": "stdout",
     "output_type": "stream",
     "text": [
      "0.160\n"
     ]
    }
   ],
   "source": [
    "print(\"{0:.3f}\".format(sampleB.mean() / sampleA.mean() - 1))"
   ]
  },
  {
   "cell_type": "markdown",
   "id": "117da81b-6e45-4657-a7a7-efa66914e0ff",
   "metadata": {},
   "source": [
    "Мы видим, что относительный прирост группы В к группе А составляет 16%"
   ]
  },
  {
   "cell_type": "markdown",
   "id": "295fba74-67ce-4825-97cd-01d29223ab13",
   "metadata": {},
   "source": [
    "<a id=\"p_avg_calc\"> </a>\n",
    "##### Расчет значения *p-value* для средних чеков и  относительного различия в среднем чеке между группами:\n",
    "<a href=\"#section1\">Оглавление</a>"
   ]
  },
  {
   "cell_type": "markdown",
   "id": "2ac97495-4060-45cd-9a18-cafb72243af5",
   "metadata": {},
   "source": [
    "Произведем расчет p-value с помощью непараметрического теста Манна-Уитни:"
   ]
  },
  {
   "cell_type": "code",
   "execution_count": 78,
   "id": "d15f4015-1ecb-4f55-a6c3-07eaef59f867",
   "metadata": {},
   "outputs": [
    {
     "name": "stdout",
     "output_type": "stream",
     "text": [
      "0.829\n"
     ]
    }
   ],
   "source": [
    "print('{0:.3f}'.format(st.mannwhitneyu(ordA['revenue'], ordB['revenue'])[1]))"
   ]
  },
  {
   "cell_type": "markdown",
   "id": "201bed23-9152-4dab-b04f-5e2e0f6a6276",
   "metadata": {},
   "source": [
    "**Значение** *p-value* **значительно превышает 0.05 Значит нулевую гипотезу мы не отвергаем и считаем, что<br>\n",
    "значимых различий между средними чеками группы А и группы В нет.**"
   ]
  },
  {
   "cell_type": "code",
   "execution_count": 79,
   "id": "b2ed081a-a930-4b09-8c52-b069e0d3226e",
   "metadata": {},
   "outputs": [
    {
     "name": "stdout",
     "output_type": "stream",
     "text": [
      "0.287\n"
     ]
    }
   ],
   "source": [
    "print('{0:.3f}'.format(df_ord[df_ord['group']=='B']['revenue'].mean()/df_ord[df_ord['group']=='A']['revenue'].mean()-1)) "
   ]
  },
  {
   "cell_type": "markdown",
   "id": "9a6f44fe-7f0f-4f20-bee8-c9c0162c454b",
   "metadata": {},
   "source": [
    "Мы наблюдаем, что относительный прирост в среднем чеке группы В к группе А составляют 28.7%, при том, что значимых различий между группами нет"
   ]
  },
  {
   "cell_type": "markdown",
   "id": "00876cc9-24b5-42b1-b709-6914f97fbdae",
   "metadata": {},
   "source": [
    "<a id=\"clean_data\"> </a>\n",
    "#### Статистическая значимость различий между группами по «очищенным» данным.\n",
    "<a href=\"#section1\">Оглавление</a>"
   ]
  },
  {
   "cell_type": "markdown",
   "id": "a834ab97-0ef9-4b2f-9032-8a57267517a8",
   "metadata": {},
   "source": [
    "Произведем очистку данных от аномалий:"
   ]
  },
  {
   "cell_type": "code",
   "execution_count": 80,
   "id": "ea7c9c58-8076-4eba-813f-ac85276ba3f5",
   "metadata": {},
   "outputs": [],
   "source": [
    "ordersByUsersA = ordA.groupby('visitorId', as_index=False).agg({'transactionId':'nunique'})\n",
    "ordersByUsersA.columns = ['userId', 'orders']"
   ]
  },
  {
   "cell_type": "code",
   "execution_count": 81,
   "id": "ee4129e1-78d9-4c8d-aa0a-a5b1a1554859",
   "metadata": {},
   "outputs": [],
   "source": [
    "ordersByUsersB = ordB.groupby('visitorId', as_index=False).agg({'transactionId':'nunique'})\n",
    "ordersByUsersB.columns = ['userId', 'orders']"
   ]
  },
  {
   "cell_type": "markdown",
   "id": "8f2c6b31-7629-4932-a399-64df29d08df0",
   "metadata": {},
   "source": [
    "Сколько пользователей, которые сделали более одного заказа?"
   ]
  },
  {
   "cell_type": "code",
   "execution_count": 82,
   "id": "f08c7d62-182d-4aac-bb8b-81d4967918b7",
   "metadata": {},
   "outputs": [
    {
     "data": {
      "text/plain": [
       "array([1., 2.])"
      ]
     },
     "execution_count": 82,
     "metadata": {},
     "output_type": "execute_result"
    }
   ],
   "source": [
    "perc_ord9"
   ]
  },
  {
   "cell_type": "code",
   "execution_count": 83,
   "id": "0047c579-9512-4b00-9027-78a1c83f14a0",
   "metadata": {},
   "outputs": [],
   "source": [
    "usersWithManyOrders = pd.concat([ordersByUsersA[ordersByUsersA['orders'] > perc_ord9[1]]['userId'],\n",
    "                                 ordersByUsersB[ordersByUsersB['orders'] > perc_ord9[1]]['userId']], axis=0)"
   ]
  },
  {
   "cell_type": "code",
   "execution_count": 84,
   "id": "35ca4134-af01-44ae-ae6f-ab37afc7b74b",
   "metadata": {},
   "outputs": [
    {
     "data": {
      "text/plain": [
       "7"
      ]
     },
     "execution_count": 84,
     "metadata": {},
     "output_type": "execute_result"
    }
   ],
   "source": [
    "len(usersWithManyOrders)"
   ]
  },
  {
   "cell_type": "markdown",
   "id": "6023c796-f81d-4082-b5b1-1c01348b9992",
   "metadata": {},
   "source": [
    "Таких пользователей 7.<br>\n",
    "А сколько пользователей сумма заказа которых выше 53900руб.? "
   ]
  },
  {
   "cell_type": "code",
   "execution_count": 85,
   "id": "af5358ea-87f8-4fef-9f12-3d04ffe2a1dc",
   "metadata": {},
   "outputs": [],
   "source": [
    "usersWithExpensiveOrders = df_ord[df_ord['revenue'] > perc_rev_by_ord9[1]]['visitorId']"
   ]
  },
  {
   "cell_type": "code",
   "execution_count": 86,
   "id": "74dbf287-438b-4f89-a285-6c9858fb0827",
   "metadata": {},
   "outputs": [
    {
     "data": {
      "text/plain": [
       "9"
      ]
     },
     "execution_count": 86,
     "metadata": {},
     "output_type": "execute_result"
    }
   ],
   "source": [
    "len(usersWithExpensiveOrders)"
   ]
  },
  {
   "cell_type": "markdown",
   "id": "b5502d0e-5141-4a7a-aebb-d551b9d5fd6f",
   "metadata": {},
   "source": [
    "Таких пользователей 9<br>\n",
    "Объеденим их в один набор - эксклюзивные пользователи:"
   ]
  },
  {
   "cell_type": "code",
   "execution_count": 87,
   "id": "dcca0b00-326b-439e-a57f-d3e448ae86e8",
   "metadata": {},
   "outputs": [],
   "source": [
    "abnormalUsers = (pd.concat([usersWithManyOrders, usersWithExpensiveOrders], axis=0)\n",
    "                            .drop_duplicates().sort_values())"
   ]
  },
  {
   "cell_type": "markdown",
   "id": "4aa13b23-e7a5-471d-bd9a-fe7d580ccc64",
   "metadata": {
    "tags": []
   },
   "source": [
    "<a id=\"p_orders_calc2\"> </a>\n",
    "##### Расчет значений *p-value* для среднего кол-ва заказов и относительного прироста среднего очищенной группы B:\n",
    "<a href=\"#section1\">Оглавление</a>"
   ]
  },
  {
   "cell_type": "markdown",
   "id": "9e4392a2-4167-4a14-96dc-d6389e0cca09",
   "metadata": {},
   "source": [
    "Создадим массив с данными по заказам - у клиентов указано кол-во сделанных заказов, у тех кто ничего не заказывал стоят нули."
   ]
  },
  {
   "cell_type": "code",
   "execution_count": 88,
   "id": "41b3b04a-1015-4c47-ba1b-ffb0982a26e4",
   "metadata": {},
   "outputs": [],
   "source": [
    "sampleAFiltered = pd.concat([ordersByUsersA[np.logical_not(ordersByUsersA['userId'].isin(abnormalUsers))\n",
    "                                            ]['orders'],\n",
    "                                            pd.Series(0, index=np.arange(\n",
    "                                            full_data['visitorsPerDateA'].sum() - len(ordersByUsersA['orders'])\n",
    "                                            ),\n",
    "                                            name='orders')], axis=0)"
   ]
  },
  {
   "cell_type": "markdown",
   "id": "3dce2d64-5140-46bf-8092-1505a16a604a",
   "metadata": {},
   "source": [
    "Создадим массив с данными по заказам - у клиентов указано кол-во сделанных заказов, у тех кто ничего не заказывал стоят нули."
   ]
  },
  {
   "cell_type": "code",
   "execution_count": 89,
   "id": "c6efe55e-8918-46ff-b523-974890664a00",
   "metadata": {},
   "outputs": [],
   "source": [
    "sampleBFiltered = pd.concat([ordersByUsersB[np.logical_not(ordersByUsersB['userId'].isin(abnormalUsers))\n",
    "                                            ]['orders'],\n",
    "                                            pd.Series(0, index=np.arange(\n",
    "                                            full_data['visitorsPerDateB'].sum() - len(ordersByUsersB['orders'])\n",
    "                                            ),\n",
    "                                            name='orders')], axis=0)"
   ]
  },
  {
   "cell_type": "markdown",
   "id": "63218c0d-5b10-497a-a87a-6a5354aa2bb9",
   "metadata": {},
   "source": [
    "Произведем расчет p-value с помощью непараметрического теста Манна-Уитни:"
   ]
  },
  {
   "cell_type": "code",
   "execution_count": 90,
   "id": "ae0a15c5-6c5a-4696-b9c2-2d08aa814b4b",
   "metadata": {},
   "outputs": [
    {
     "name": "stdout",
     "output_type": "stream",
     "text": [
      "p-value = 0.007\n"
     ]
    }
   ],
   "source": [
    "print('p-value =','{0:.3f}'.format(st.mannwhitneyu(sampleAFiltered, sampleBFiltered)[1]))"
   ]
  },
  {
   "cell_type": "markdown",
   "id": "2c1d0cb4-8484-4500-a57b-de5a53a779f6",
   "metadata": {},
   "source": [
    "**Значение** *p-value* **значительно меньше 0.05 Значит нулевую гипотезу мы отвергаем и считаем, что<br>\n",
    "значимые различия между средними заказами группы А и группы В есть.**"
   ]
  },
  {
   "cell_type": "code",
   "execution_count": 91,
   "id": "b644e057-e189-402a-93ef-883d55cfe0ea",
   "metadata": {},
   "outputs": [
    {
     "name": "stdout",
     "output_type": "stream",
     "text": [
      "0.189\n"
     ]
    }
   ],
   "source": [
    "print('{0:.3f}'.format(sampleBFiltered.mean()/sampleAFiltered.mean()-1)) "
   ]
  },
  {
   "cell_type": "markdown",
   "id": "c8bb7a03-3720-4759-b160-edfb5f89570e",
   "metadata": {},
   "source": [
    "Относительный прирост среднего \"очищенной\" группы В вырос по сравнению с \"сырыми\" данными с 16% до 18.9%."
   ]
  },
  {
   "cell_type": "markdown",
   "id": "7aa58d8c-220c-430d-99fb-ec2a093149a3",
   "metadata": {},
   "source": [
    "<a id=\"p_avg_calc2\"> </a>\n",
    "##### Расчет значения *p-value* для средних чеков и относительного прироста среднего чека очищенной группы B:\n",
    "<a href=\"#section1\">Оглавление</a>"
   ]
  },
  {
   "cell_type": "markdown",
   "id": "afa54e3e-fedf-42f6-bbb0-4cdbf5ac8d5d",
   "metadata": {},
   "source": [
    "Произведем расчет p-value с помощью непараметрического теста Манна-Уитни:"
   ]
  },
  {
   "cell_type": "code",
   "execution_count": 92,
   "id": "515f3f51-7392-48b6-ae32-11f26a9c7f50",
   "metadata": {},
   "outputs": [
    {
     "name": "stdout",
     "output_type": "stream",
     "text": [
      "p-value = 0.788\n"
     ]
    }
   ],
   "source": [
    "print('p-value =',\n",
    "    '{0:.3f}'.format(\n",
    "        st.mannwhitneyu(\n",
    "            ordA[~ordA['visitorId'].isin(abnormalUsers)]['revenue'],\n",
    "            ordB[~ordB['visitorId'].isin(abnormalUsers)]['revenue'])[1]))"
   ]
  },
  {
   "cell_type": "markdown",
   "id": "9e973e17-e2fc-4de1-978d-fe114dfc5c86",
   "metadata": {},
   "source": [
    "**Значение** *p-value* **уменьшилось, но все равно значительно превышает** ***0.05***<br> \n",
    "**Значит нулевую гипотезу мы не отвергаем и считаем, что<br>\n",
    "значимых различий между средними чеками группы А и группы В нет.**"
   ]
  },
  {
   "cell_type": "code",
   "execution_count": 93,
   "id": "d0c14aac-1248-4b72-96cb-3e7bf9067300",
   "metadata": {},
   "outputs": [
    {
     "name": "stdout",
     "output_type": "stream",
     "text": [
      "-0.032\n"
     ]
    }
   ],
   "source": [
    "print(\"{0:.3f}\".format(ordB[~ordB['visitorId'].isin(abnormalUsers)]['revenue'].mean()\n",
    "        / ordA[~ordA['visitorId'].isin(abnormalUsers)]['revenue'].mean() - 1))"
   ]
  },
  {
   "cell_type": "markdown",
   "id": "728dc9ce-d4e0-4391-99cd-894a4ecac43c",
   "metadata": {},
   "source": [
    "В результате мы видим, что относительный прирост среднего чека очищенной группы В к очищенной группе А отсутствует, наблюдаем падение это показателя"
   ]
  },
  {
   "cell_type": "markdown",
   "id": "a2f53a85-3907-47fb-8eac-83a9eab107a0",
   "metadata": {},
   "source": [
    "<a id=\"resume\"> </a>\n",
    "### Итоги A/B теста\n",
    "<a href=\"#section1\">Оглавление</a>"
   ]
  },
  {
   "cell_type": "markdown",
   "id": "5df4a9e0-f6c7-49a7-a496-89a06784f0c7",
   "metadata": {},
   "source": [
    "1. Тест проводился с 1 августа по 31 августа 2019 года\n",
    "2. В тесте анализировались 2 группы \n",
    "3. Группы были равны по размерам\n",
    "4. В результате анализа групп были выявлены аномалии по кол-ву и стоимости заказов\n",
    "5. Произведена оценка статистической значимости различий в группах на \"сырых\" данных и <br>\n",
    "   расчитаны зачения p-value для заказов и средних чеков:<br>\n",
    "   а. Оценка p-value для ср.кол-ва заказов указала на наличие значимых различий в группах, а значение<br> относительного прироста среднего кол-ва заказов составило 16%<br>\n",
    "   b. оценка p-value для ср.чеков не выявила статистически значимых различий между группами,<br>\n",
    "   а значение относительного различия средних чеков в группах составило 28.7%<br>   \n",
    "6. Произведена оценка статистической значимости различий в группах на \"очищенных\" данных и <br>\n",
    "   расчитаны зачения p-value для заказов и средних чеков:<br>\n",
    "   а. Оценка p-value для ср.кол-ва заказов указала на наличие значимых различий в группах А и В, а значение<br> относительного прироста среднего кол-ва заказов выросло с 16% (сырые данные)  до 18.9% <br>\n",
    "   (очищенные данные)<br>\n",
    "   b. Оценка p-value для средних чеков уменьшилась, но тем не менее, значительно превышает 0.05, что<br> говорит нам об  отсутствии значимых различий между средними чеками групп А и В.Значение относительного изменения средниих чеков резко изменилось с 28% на \"сырых\" данных до -3.2% на \"чистых\"<br>\n",
    "7. Наши метрики по разному себя ведут в данном тесте:<br> \n",
    "    а. метрика по средним заказам - есть значимые различия, что подтверждается  и значением относительного роста ср.кол-ва заказов группы В к группе А более 16%<br>\n",
    "    b. метрика по чекам - значимых различий нет. На \"чистых\" данных относительнй прирост средних чеков группы В к группе А упал до -3.2%, что может подтверждать значение p-value об отсутствии значимых различий.<br>\n",
    "8. Учитывая выше перечисленное следует остановить проведение теста и в случае со средним кол-вом заказов признать победу группы В над группой А, в случае со средней стоимостью заказов мы фиксируем отстутствие различий в группах"
   ]
  },
  {
   "cell_type": "markdown",
   "id": "413a81e3-c9cb-4024-942a-50827fb904f1",
   "metadata": {},
   "source": [
    "<a id=\"general_resume\"> </a>\n",
    "## Общие выводы\n",
    "<a href=\"#section1\">Оглавление</a>"
   ]
  },
  {
   "cell_type": "markdown",
   "id": "79ba5863-cc63-472f-8952-c61cd40e4414",
   "metadata": {},
   "source": [
    "В ходе исследования были выполнены следующие моменты:<br>\n",
    "    *1. Произведен анализ предложенных гипотез методами ICE и RICE и получены приоритеты для каждой<br> \n",
    "       гипотезы. Что позволило принять в работу гитотезу с наивысшим приоритетом.<br>\n",
    "    2. Проведено изучение данных полученых в ходе А/В теста и выявлено следующее:*<br>\n",
    "    &emsp;* пропуски в данных отстутствуют<br>\n",
    "    &emsp;* дубликаты отстутствуют<br>\n",
    "    &emsp;* датасет visitors поделен на две равные группы<br>\n",
    "    &emsp;* датасет orders поделен на 2 группы неравномерно и более того часть покупателей в группах пересекалась.<br>\n",
    "          В связи с этим для качественной оценки результатов А/В теста данные моменты были устранены<br>\n",
    "    *3. В ходе исследовательского анализа были выполнены следующие шаги:*<br> \n",
    "    &emsp;* проведен анализ датасета orders на предмет изменения кумулятивной выручки по группам<br> \n",
    "    &emsp;в ходе проведения теста и визуализирован результат:<br>\n",
    "    &emsp;изменения выручки в обеих группах носят практически линейный характер,<br> \n",
    "    &emsp;при этом 19 августа происходит резкий взлет куммулятивной выручки группы В, хотя до этого<br>\n",
    "    &emsp;и после этого никаких сильных колебаний нет ни в группе А, ни в группе В.<br> \n",
    "    &emsp;Значит в этот день была совершена одна большая покупка, так как при дальнейшем анализе<br> \n",
    "    &emsp;каких-либо резких скачков ср.кол-ва заказов на эту дату вывлено не было<br>\n",
    "    &emsp;* Визуализированы результаты анализа кумулятивного среднего чека в разных группах и выявлено:<br>\n",
    "    &emsp;что кривые группы А и группы В с переменным успехом росли до чуть менее 7000 к 18 августа.<br>\n",
    "    &emsp;19 августа средний чек группы В резко вырос до примерно 10400, что составляет 150% роста. После чего <br>\n",
    "    &emsp;стал немного \"проседать\" в оставшиеся дни августа. Средний чек группы А продолжил \"слабый\" рост в районе 7000.<br>\n",
    "    &emsp;Резкий рост среднего чека чего говорит о покупке более дорогостоящего товара или товаров<br>\n",
    "    &emsp;* Характер изменений относительного среднего чека группы В к группе А визуализированный<br> \n",
    "    &emsp;на соответствующем графике демонстрирует резкие колебания в нескольких точках, что говорит<br> \n",
    "    &emsp;о крупных заказах и выбросах<br>\n",
    "    &emsp;* Изменения графика кумулятивного среднего кол-ва заказов демонстрируют, что в первую декаду<br>\n",
    "    &emsp;августа среднее кол-во заказов на посетителя что группе А, что в группе В сильно колебалось.<br>\n",
    "    &emsp;Однако уже после первой декады колебания значительно уменьшились и происходили вокруг значения 0.0253 в группе А<br>\n",
    "    &emsp;и рядом с значением 0.029 в группе В. Кроме первых 7 дней теста группа В по данному параметру была лучше группы А<br>\n",
    "    &emsp;* На графике относительного кумулятивного среднего кол-ва заказов мы можем наблюдать в первую неделю августа <br>\n",
    "    &emsp;относительное среднее кол-во заказов было значительно ниже нулевой отметки<br>\n",
    "    &emsp;Затем произошел резкий скачок вверх и относильное среднее кол-ва заказов превысило значение нуля.<br> \n",
    "    &emsp;После 20 августа даты началось небольшое снижение показателя.<br> \n",
    "    &emsp;* Точечный график кол-ва заказов позволяет получить картину распределения заказов по пользователям и <br>\n",
    "    &emsp;визуально выявить аномалии - заказы клиентов более 2<br> \n",
    "    &emsp;* Расчет 95 и 99 персентилей подтвердил вывод сделанный выше о том, что все заказы более 2 можно <br>\n",
    "    &emsp;считать аномалиями<br>\n",
    "    &emsp;* Точечный график стоимости заказов позволяет получить картину распределения и выбросов стоимости заказов<br>\n",
    "    &emsp;по пользователям, при этом по полученному распределению непросто сделать вывод об аномалиях, за исключением 2-х,<br>\n",
    "    &emsp;которые имеют экстимально высокие значения по сравнению с другими заказами. Расчет персентилей облегчил нашу <br>\n",
    "    &emsp;задачу определения аномалий в наборе данных<br>\n",
    "    &emsp;* Расчет 95 и 99 персентилей стоимости заказов позволил определить аномальные стоимости заказов - <br>\n",
    "    &emsp;заказы cтоимостью более 53400 руб.<br>\n",
    "    &emsp;* Для определения наличия статистической значимости различия в группах, участвовавших в тесте, мы расчитали<br>\n",
    "    &emsp;значение p-value с помощью непараметрического теста Манна-Уитни. Расчет проводился для \"сырых\" данных<br> \n",
    "    &emsp;и \"очищенных\", для ср. кол-ва заказов и ср. стоимостей заказов. Расчитанные p-value для кол-ва заказов выявили <br>\n",
    "    &emsp;статистически значимые различия в группах как по \"сырым\" данным, так и по \"очищенным\".<br>\n",
    "    &emsp;В свою очередь, p-value для средней стоимости заказа не выявил значимых различий между группами,<br>\n",
    "    &emsp;ни в \"сырых\" данных, ни в \"очищенных\".<br>\n",
    "    &emsp;* Расчет относительного изменения кол-ва заказов группы В к группе А показал прирост в 16% в случае<br>\n",
    "    &emsp;\"сырых\" данных и 18% прирост в случае \"чистых\" данных.<br>\n",
    "    &emsp;* Расчет относительного изменения средней стоимости заказов группы В к группе А продемонстрировал падение<br>\n",
    "    &emsp;значения с 28.7% в случае \"сырых\" данных до -3.2% в случае с \"очищенными\" данными, что подтверждает<br>\n",
    "    &emsp;отстутствие различий в группах А и В<br>\n",
    "    &emsp;Таким обрзов следует остановить проведение теста и в случае со средним кол-вом заказов признать<br> \n",
    "    &emsp;победу группы В над группой А, в случае со средней стоимостью заказов мы фиксируем отстутствие<br> \n",
    "    &emsp;различий в группах."
   ]
  }
 ],
 "metadata": {
  "ExecuteTimeLog": [
   {
    "duration": 1208,
    "start_time": "2023-05-15T06:37:51.167Z"
   },
   {
    "duration": 3,
    "start_time": "2023-05-15T06:37:52.377Z"
   },
   {
    "duration": 101,
    "start_time": "2023-05-15T06:37:52.394Z"
   },
   {
    "duration": 10,
    "start_time": "2023-05-15T06:37:52.497Z"
   },
   {
    "duration": 3,
    "start_time": "2023-05-15T06:37:52.508Z"
   },
   {
    "duration": 54,
    "start_time": "2023-05-15T06:37:52.512Z"
   },
   {
    "duration": 14,
    "start_time": "2023-05-15T06:37:52.567Z"
   },
   {
    "duration": 169,
    "start_time": "2023-05-15T06:37:52.583Z"
   },
   {
    "duration": 6,
    "start_time": "2023-05-15T06:37:52.754Z"
   },
   {
    "duration": 13,
    "start_time": "2023-05-15T06:37:52.762Z"
   },
   {
    "duration": 72,
    "start_time": "2023-05-15T06:37:52.777Z"
   },
   {
    "duration": 12,
    "start_time": "2023-05-15T06:37:52.851Z"
   },
   {
    "duration": 13,
    "start_time": "2023-05-15T06:37:52.864Z"
   },
   {
    "duration": 22,
    "start_time": "2023-05-15T06:37:52.878Z"
   },
   {
    "duration": 30,
    "start_time": "2023-05-15T06:37:52.902Z"
   },
   {
    "duration": 11,
    "start_time": "2023-05-15T06:37:52.934Z"
   },
   {
    "duration": 21,
    "start_time": "2023-05-15T06:37:52.946Z"
   },
   {
    "duration": 21,
    "start_time": "2023-05-15T06:37:52.969Z"
   },
   {
    "duration": 140,
    "start_time": "2023-05-15T06:37:52.995Z"
   },
   {
    "duration": 2,
    "start_time": "2023-05-15T06:37:53.136Z"
   },
   {
    "duration": 109,
    "start_time": "2023-05-15T06:37:53.140Z"
   },
   {
    "duration": 76,
    "start_time": "2023-05-15T06:37:53.251Z"
   },
   {
    "duration": 119,
    "start_time": "2023-05-15T06:37:53.328Z"
   },
   {
    "duration": 2,
    "start_time": "2023-05-15T06:37:53.449Z"
   },
   {
    "duration": 117,
    "start_time": "2023-05-15T06:37:53.452Z"
   },
   {
    "duration": 91,
    "start_time": "2023-05-15T06:37:53.570Z"
   },
   {
    "duration": 4,
    "start_time": "2023-05-15T06:37:53.663Z"
   },
   {
    "duration": 5,
    "start_time": "2023-05-15T06:37:53.670Z"
   },
   {
    "duration": 30,
    "start_time": "2023-05-15T06:37:53.676Z"
   },
   {
    "duration": 15,
    "start_time": "2023-05-15T06:37:53.708Z"
   },
   {
    "duration": 18,
    "start_time": "2023-05-15T06:37:53.724Z"
   },
   {
    "duration": 10,
    "start_time": "2023-05-15T06:37:53.743Z"
   },
   {
    "duration": 8,
    "start_time": "2023-05-15T06:37:53.754Z"
   },
   {
    "duration": 5,
    "start_time": "2023-05-15T06:37:53.763Z"
   },
   {
    "duration": 6,
    "start_time": "2023-05-15T06:37:53.770Z"
   },
   {
    "duration": 9,
    "start_time": "2023-05-15T06:37:53.777Z"
   },
   {
    "duration": 28,
    "start_time": "2023-05-15T06:37:53.787Z"
   },
   {
    "duration": 7,
    "start_time": "2023-05-15T06:37:53.816Z"
   },
   {
    "duration": 6,
    "start_time": "2023-05-15T06:37:53.824Z"
   },
   {
    "duration": 14,
    "start_time": "2023-05-15T06:37:53.831Z"
   },
   {
    "duration": 12,
    "start_time": "2023-05-15T06:37:53.847Z"
   },
   {
    "duration": 7,
    "start_time": "2023-05-15T06:37:53.860Z"
   },
   {
    "duration": 33,
    "start_time": "2023-05-15T06:37:53.868Z"
   },
   {
    "duration": 20,
    "start_time": "2023-05-15T06:37:53.902Z"
   },
   {
    "duration": 17,
    "start_time": "2023-05-15T06:37:53.923Z"
   },
   {
    "duration": 153,
    "start_time": "2023-05-15T06:37:53.942Z"
   },
   {
    "duration": 8,
    "start_time": "2023-05-15T06:37:54.099Z"
   },
   {
    "duration": 128,
    "start_time": "2023-05-15T06:37:54.108Z"
   },
   {
    "duration": 19,
    "start_time": "2023-05-15T06:37:54.238Z"
   },
   {
    "duration": 14,
    "start_time": "2023-05-15T06:37:54.259Z"
   },
   {
    "duration": 10,
    "start_time": "2023-05-15T06:37:54.274Z"
   },
   {
    "duration": 28,
    "start_time": "2023-05-15T06:37:54.285Z"
   },
   {
    "duration": 38,
    "start_time": "2023-05-15T06:37:54.314Z"
   },
   {
    "duration": 260,
    "start_time": "2023-05-15T06:37:54.353Z"
   },
   {
    "duration": 236,
    "start_time": "2023-05-15T06:37:54.615Z"
   },
   {
    "duration": 5,
    "start_time": "2023-05-15T06:37:54.852Z"
   },
   {
    "duration": 318,
    "start_time": "2023-05-15T06:37:54.858Z"
   },
   {
    "duration": 21,
    "start_time": "2023-05-15T06:37:55.177Z"
   },
   {
    "duration": 297,
    "start_time": "2023-05-15T06:37:55.200Z"
   },
   {
    "duration": 5,
    "start_time": "2023-05-15T06:37:55.499Z"
   },
   {
    "duration": 9,
    "start_time": "2023-05-15T06:37:55.505Z"
   },
   {
    "duration": 255,
    "start_time": "2023-05-15T06:37:55.515Z"
   },
   {
    "duration": 19,
    "start_time": "2023-05-15T06:37:55.771Z"
   },
   {
    "duration": 115,
    "start_time": "2023-05-15T06:37:55.795Z"
   },
   {
    "duration": 3,
    "start_time": "2023-05-15T06:37:55.912Z"
   },
   {
    "duration": 17,
    "start_time": "2023-05-15T06:37:55.917Z"
   },
   {
    "duration": 278,
    "start_time": "2023-05-15T06:37:55.936Z"
   },
   {
    "duration": 4,
    "start_time": "2023-05-15T06:37:56.216Z"
   },
   {
    "duration": 9,
    "start_time": "2023-05-15T06:37:56.221Z"
   },
   {
    "duration": 8,
    "start_time": "2023-05-15T06:37:56.231Z"
   },
   {
    "duration": 9,
    "start_time": "2023-05-15T06:37:56.240Z"
   },
   {
    "duration": 8,
    "start_time": "2023-05-15T06:37:56.250Z"
   },
   {
    "duration": 9,
    "start_time": "2023-05-15T06:37:56.259Z"
   },
   {
    "duration": 27,
    "start_time": "2023-05-15T06:37:56.269Z"
   },
   {
    "duration": 19,
    "start_time": "2023-05-15T06:37:56.297Z"
   },
   {
    "duration": 10,
    "start_time": "2023-05-15T06:37:56.317Z"
   },
   {
    "duration": 9,
    "start_time": "2023-05-15T06:37:56.329Z"
   },
   {
    "duration": 8,
    "start_time": "2023-05-15T06:37:56.339Z"
   },
   {
    "duration": 15,
    "start_time": "2023-05-15T06:37:56.348Z"
   },
   {
    "duration": 4,
    "start_time": "2023-05-15T06:37:56.364Z"
   },
   {
    "duration": 33,
    "start_time": "2023-05-15T06:37:56.369Z"
   },
   {
    "duration": 7,
    "start_time": "2023-05-15T06:37:56.411Z"
   },
   {
    "duration": 10,
    "start_time": "2023-05-15T06:37:56.419Z"
   },
   {
    "duration": 8,
    "start_time": "2023-05-15T06:37:56.430Z"
   },
   {
    "duration": 5,
    "start_time": "2023-05-15T06:37:56.440Z"
   },
   {
    "duration": 11,
    "start_time": "2023-05-15T06:37:56.447Z"
   },
   {
    "duration": 8,
    "start_time": "2023-05-15T06:37:56.459Z"
   },
   {
    "duration": 10,
    "start_time": "2023-05-15T06:37:56.468Z"
   },
   {
    "duration": 23,
    "start_time": "2023-05-15T06:37:56.479Z"
   },
   {
    "duration": 6,
    "start_time": "2023-05-15T06:37:56.504Z"
   },
   {
    "duration": 12,
    "start_time": "2023-05-15T06:37:56.511Z"
   },
   {
    "duration": 21,
    "start_time": "2023-05-15T06:37:56.524Z"
   },
   {
    "duration": 6,
    "start_time": "2023-05-15T06:37:56.546Z"
   },
   {
    "duration": 48,
    "start_time": "2023-05-15T13:01:46.219Z"
   },
   {
    "duration": 1475,
    "start_time": "2023-05-15T13:01:54.426Z"
   },
   {
    "duration": 3,
    "start_time": "2023-05-15T13:01:55.903Z"
   },
   {
    "duration": 66,
    "start_time": "2023-05-15T13:01:55.907Z"
   },
   {
    "duration": 12,
    "start_time": "2023-05-15T13:01:55.975Z"
   },
   {
    "duration": 22,
    "start_time": "2023-05-15T13:01:55.988Z"
   },
   {
    "duration": 76,
    "start_time": "2023-05-15T13:01:56.012Z"
   },
   {
    "duration": 14,
    "start_time": "2023-05-15T13:01:56.090Z"
   },
   {
    "duration": 212,
    "start_time": "2023-05-15T13:01:56.106Z"
   },
   {
    "duration": 8,
    "start_time": "2023-05-15T13:01:56.319Z"
   },
   {
    "duration": 21,
    "start_time": "2023-05-15T13:01:56.331Z"
   },
   {
    "duration": 26,
    "start_time": "2023-05-15T13:01:56.354Z"
   },
   {
    "duration": 24,
    "start_time": "2023-05-15T13:01:56.382Z"
   },
   {
    "duration": 14,
    "start_time": "2023-05-15T13:01:56.408Z"
   },
   {
    "duration": 28,
    "start_time": "2023-05-15T13:01:56.424Z"
   },
   {
    "duration": 41,
    "start_time": "2023-05-15T13:01:56.453Z"
   },
   {
    "duration": 25,
    "start_time": "2023-05-15T13:01:56.497Z"
   },
   {
    "duration": 46,
    "start_time": "2023-05-15T13:01:56.523Z"
   },
   {
    "duration": 51,
    "start_time": "2023-05-15T13:01:56.570Z"
   },
   {
    "duration": 202,
    "start_time": "2023-05-15T13:01:56.623Z"
   },
   {
    "duration": 3,
    "start_time": "2023-05-15T13:01:56.827Z"
   },
   {
    "duration": 157,
    "start_time": "2023-05-15T13:01:56.832Z"
   },
   {
    "duration": 93,
    "start_time": "2023-05-15T13:01:56.991Z"
   },
   {
    "duration": 160,
    "start_time": "2023-05-15T13:01:57.086Z"
   },
   {
    "duration": 3,
    "start_time": "2023-05-15T13:01:57.248Z"
   },
   {
    "duration": 172,
    "start_time": "2023-05-15T13:01:57.252Z"
   },
   {
    "duration": 101,
    "start_time": "2023-05-15T13:01:57.426Z"
   },
   {
    "duration": 5,
    "start_time": "2023-05-15T13:01:57.528Z"
   },
   {
    "duration": 12,
    "start_time": "2023-05-15T13:01:57.539Z"
   },
   {
    "duration": 34,
    "start_time": "2023-05-15T13:01:57.553Z"
   },
   {
    "duration": 32,
    "start_time": "2023-05-15T13:01:57.589Z"
   },
   {
    "duration": 34,
    "start_time": "2023-05-15T13:01:57.623Z"
   },
   {
    "duration": 30,
    "start_time": "2023-05-15T13:01:57.658Z"
   },
   {
    "duration": 23,
    "start_time": "2023-05-15T13:01:57.690Z"
   },
   {
    "duration": 35,
    "start_time": "2023-05-15T13:01:57.715Z"
   },
   {
    "duration": 35,
    "start_time": "2023-05-15T13:01:57.752Z"
   },
   {
    "duration": 26,
    "start_time": "2023-05-15T13:01:57.789Z"
   },
   {
    "duration": 64,
    "start_time": "2023-05-15T13:01:57.817Z"
   },
   {
    "duration": 58,
    "start_time": "2023-05-15T13:01:57.883Z"
   },
   {
    "duration": 27,
    "start_time": "2023-05-15T13:01:57.942Z"
   },
   {
    "duration": 29,
    "start_time": "2023-05-15T13:01:57.971Z"
   },
   {
    "duration": 43,
    "start_time": "2023-05-15T13:01:58.001Z"
   },
   {
    "duration": 30,
    "start_time": "2023-05-15T13:01:58.045Z"
   },
   {
    "duration": 41,
    "start_time": "2023-05-15T13:01:58.076Z"
   },
   {
    "duration": 19,
    "start_time": "2023-05-15T13:01:58.119Z"
   },
   {
    "duration": 32,
    "start_time": "2023-05-15T13:01:58.140Z"
   },
   {
    "duration": 227,
    "start_time": "2023-05-15T13:01:58.173Z"
   },
   {
    "duration": 8,
    "start_time": "2023-05-15T13:01:58.401Z"
   },
   {
    "duration": 162,
    "start_time": "2023-05-15T13:01:58.410Z"
   },
   {
    "duration": 90,
    "start_time": "2023-05-15T13:01:58.574Z"
   },
   {
    "duration": 36,
    "start_time": "2023-05-15T13:01:58.666Z"
   },
   {
    "duration": 17,
    "start_time": "2023-05-15T13:01:58.704Z"
   },
   {
    "duration": 35,
    "start_time": "2023-05-15T13:01:58.723Z"
   },
   {
    "duration": 32,
    "start_time": "2023-05-15T13:01:58.760Z"
   },
   {
    "duration": 305,
    "start_time": "2023-05-15T13:01:58.793Z"
   },
   {
    "duration": 296,
    "start_time": "2023-05-15T13:01:59.099Z"
   },
   {
    "duration": 6,
    "start_time": "2023-05-15T13:01:59.397Z"
   },
   {
    "duration": 377,
    "start_time": "2023-05-15T13:01:59.404Z"
   },
   {
    "duration": 8,
    "start_time": "2023-05-15T13:01:59.783Z"
   },
   {
    "duration": 369,
    "start_time": "2023-05-15T13:01:59.792Z"
   },
   {
    "duration": 6,
    "start_time": "2023-05-15T13:02:00.163Z"
   },
   {
    "duration": 50,
    "start_time": "2023-05-15T13:02:00.170Z"
   },
   {
    "duration": 314,
    "start_time": "2023-05-15T13:02:00.222Z"
   },
   {
    "duration": 6,
    "start_time": "2023-05-15T13:02:00.538Z"
   },
   {
    "duration": 202,
    "start_time": "2023-05-15T13:02:00.545Z"
   },
   {
    "duration": 4,
    "start_time": "2023-05-15T13:02:00.749Z"
   },
   {
    "duration": 123,
    "start_time": "2023-05-15T13:02:00.754Z"
   },
   {
    "duration": 304,
    "start_time": "2023-05-15T13:02:00.879Z"
   },
   {
    "duration": 5,
    "start_time": "2023-05-15T13:02:01.184Z"
   },
   {
    "duration": 51,
    "start_time": "2023-05-15T13:02:01.190Z"
   },
   {
    "duration": 57,
    "start_time": "2023-05-15T13:02:01.243Z"
   },
   {
    "duration": 66,
    "start_time": "2023-05-15T13:02:01.302Z"
   },
   {
    "duration": 45,
    "start_time": "2023-05-15T13:02:01.369Z"
   },
   {
    "duration": 39,
    "start_time": "2023-05-15T13:02:01.416Z"
   },
   {
    "duration": 43,
    "start_time": "2023-05-15T13:02:01.457Z"
   },
   {
    "duration": 83,
    "start_time": "2023-05-15T13:02:01.501Z"
   },
   {
    "duration": 46,
    "start_time": "2023-05-15T13:02:01.586Z"
   },
   {
    "duration": 63,
    "start_time": "2023-05-15T13:02:01.634Z"
   },
   {
    "duration": 46,
    "start_time": "2023-05-15T13:02:01.700Z"
   },
   {
    "duration": 47,
    "start_time": "2023-05-15T13:02:01.748Z"
   },
   {
    "duration": 35,
    "start_time": "2023-05-15T13:02:01.797Z"
   },
   {
    "duration": 39,
    "start_time": "2023-05-15T13:02:01.833Z"
   },
   {
    "duration": 33,
    "start_time": "2023-05-15T13:02:01.877Z"
   },
   {
    "duration": 18,
    "start_time": "2023-05-15T13:02:01.912Z"
   },
   {
    "duration": 35,
    "start_time": "2023-05-15T13:02:01.932Z"
   },
   {
    "duration": 19,
    "start_time": "2023-05-15T13:02:01.969Z"
   },
   {
    "duration": 33,
    "start_time": "2023-05-15T13:02:01.989Z"
   },
   {
    "duration": 29,
    "start_time": "2023-05-15T13:02:02.023Z"
   },
   {
    "duration": 24,
    "start_time": "2023-05-15T13:02:02.053Z"
   },
   {
    "duration": 20,
    "start_time": "2023-05-15T13:02:02.078Z"
   },
   {
    "duration": 27,
    "start_time": "2023-05-15T13:02:02.100Z"
   },
   {
    "duration": 26,
    "start_time": "2023-05-15T13:02:02.131Z"
   },
   {
    "duration": 42,
    "start_time": "2023-05-15T13:02:02.158Z"
   },
   {
    "duration": 40,
    "start_time": "2023-05-15T13:02:02.201Z"
   },
   {
    "duration": 13,
    "start_time": "2023-05-15T13:02:21.405Z"
   },
   {
    "duration": 13,
    "start_time": "2023-05-15T13:02:30.101Z"
   },
   {
    "duration": 61,
    "start_time": "2023-05-15T13:05:50.954Z"
   },
   {
    "duration": 12,
    "start_time": "2023-05-15T13:05:54.430Z"
   },
   {
    "duration": 5,
    "start_time": "2023-05-15T13:05:56.822Z"
   },
   {
    "duration": 8,
    "start_time": "2023-05-15T13:06:08.609Z"
   },
   {
    "duration": 10,
    "start_time": "2023-05-15T13:06:09.281Z"
   },
   {
    "duration": 8,
    "start_time": "2023-05-15T13:06:09.518Z"
   },
   {
    "duration": 9,
    "start_time": "2023-05-15T13:06:10.292Z"
   },
   {
    "duration": 9,
    "start_time": "2023-05-15T13:06:11.112Z"
   },
   {
    "duration": 8,
    "start_time": "2023-05-15T13:06:11.542Z"
   },
   {
    "duration": 17,
    "start_time": "2023-05-15T13:06:12.575Z"
   },
   {
    "duration": 11,
    "start_time": "2023-05-15T13:06:12.891Z"
   },
   {
    "duration": 8,
    "start_time": "2023-05-15T13:06:14.190Z"
   },
   {
    "duration": 5,
    "start_time": "2023-05-15T13:06:14.945Z"
   },
   {
    "duration": 10,
    "start_time": "2023-05-15T13:06:16.084Z"
   },
   {
    "duration": 5,
    "start_time": "2023-05-15T13:06:17.429Z"
   },
   {
    "duration": 21,
    "start_time": "2023-05-15T13:06:19.350Z"
   },
   {
    "duration": 1626,
    "start_time": "2023-05-15T13:29:13.185Z"
   },
   {
    "duration": 8,
    "start_time": "2023-05-15T13:29:14.813Z"
   },
   {
    "duration": 104,
    "start_time": "2023-05-15T13:29:14.823Z"
   },
   {
    "duration": 12,
    "start_time": "2023-05-15T13:29:14.929Z"
   },
   {
    "duration": 6,
    "start_time": "2023-05-15T13:29:14.943Z"
   },
   {
    "duration": 394,
    "start_time": "2023-05-15T13:29:14.951Z"
   },
   {
    "duration": 0,
    "start_time": "2023-05-15T13:29:15.351Z"
   },
   {
    "duration": 0,
    "start_time": "2023-05-15T13:29:15.353Z"
   },
   {
    "duration": 0,
    "start_time": "2023-05-15T13:29:15.354Z"
   },
   {
    "duration": 0,
    "start_time": "2023-05-15T13:29:15.355Z"
   },
   {
    "duration": 0,
    "start_time": "2023-05-15T13:29:15.357Z"
   },
   {
    "duration": 0,
    "start_time": "2023-05-15T13:29:15.359Z"
   },
   {
    "duration": 0,
    "start_time": "2023-05-15T13:29:15.360Z"
   },
   {
    "duration": 0,
    "start_time": "2023-05-15T13:29:15.362Z"
   },
   {
    "duration": 0,
    "start_time": "2023-05-15T13:29:15.363Z"
   },
   {
    "duration": 0,
    "start_time": "2023-05-15T13:29:15.364Z"
   },
   {
    "duration": 0,
    "start_time": "2023-05-15T13:29:15.366Z"
   },
   {
    "duration": 0,
    "start_time": "2023-05-15T13:29:15.367Z"
   },
   {
    "duration": 0,
    "start_time": "2023-05-15T13:29:15.368Z"
   },
   {
    "duration": 0,
    "start_time": "2023-05-15T13:29:15.369Z"
   },
   {
    "duration": 0,
    "start_time": "2023-05-15T13:29:15.371Z"
   },
   {
    "duration": 0,
    "start_time": "2023-05-15T13:29:15.372Z"
   },
   {
    "duration": 0,
    "start_time": "2023-05-15T13:29:15.373Z"
   },
   {
    "duration": 0,
    "start_time": "2023-05-15T13:29:15.374Z"
   },
   {
    "duration": 0,
    "start_time": "2023-05-15T13:29:15.375Z"
   },
   {
    "duration": 0,
    "start_time": "2023-05-15T13:29:15.377Z"
   },
   {
    "duration": 0,
    "start_time": "2023-05-15T13:29:15.378Z"
   },
   {
    "duration": 0,
    "start_time": "2023-05-15T13:29:15.379Z"
   },
   {
    "duration": 0,
    "start_time": "2023-05-15T13:29:15.381Z"
   },
   {
    "duration": 0,
    "start_time": "2023-05-15T13:29:15.386Z"
   },
   {
    "duration": 0,
    "start_time": "2023-05-15T13:29:15.401Z"
   },
   {
    "duration": 0,
    "start_time": "2023-05-15T13:29:15.406Z"
   },
   {
    "duration": 0,
    "start_time": "2023-05-15T13:29:15.407Z"
   },
   {
    "duration": 0,
    "start_time": "2023-05-15T13:29:15.412Z"
   },
   {
    "duration": 0,
    "start_time": "2023-05-15T13:29:15.413Z"
   },
   {
    "duration": 0,
    "start_time": "2023-05-15T13:29:15.414Z"
   },
   {
    "duration": 0,
    "start_time": "2023-05-15T13:29:15.415Z"
   },
   {
    "duration": 0,
    "start_time": "2023-05-15T13:29:15.416Z"
   },
   {
    "duration": 0,
    "start_time": "2023-05-15T13:29:15.418Z"
   },
   {
    "duration": 0,
    "start_time": "2023-05-15T13:29:15.419Z"
   },
   {
    "duration": 0,
    "start_time": "2023-05-15T13:29:15.420Z"
   },
   {
    "duration": 0,
    "start_time": "2023-05-15T13:29:15.423Z"
   },
   {
    "duration": 0,
    "start_time": "2023-05-15T13:29:15.424Z"
   },
   {
    "duration": 0,
    "start_time": "2023-05-15T13:29:15.425Z"
   },
   {
    "duration": 0,
    "start_time": "2023-05-15T13:29:15.426Z"
   },
   {
    "duration": 0,
    "start_time": "2023-05-15T13:29:15.427Z"
   },
   {
    "duration": 0,
    "start_time": "2023-05-15T13:29:15.428Z"
   },
   {
    "duration": 0,
    "start_time": "2023-05-15T13:29:15.429Z"
   },
   {
    "duration": 0,
    "start_time": "2023-05-15T13:29:15.431Z"
   },
   {
    "duration": 0,
    "start_time": "2023-05-15T13:29:15.432Z"
   },
   {
    "duration": 0,
    "start_time": "2023-05-15T13:29:15.433Z"
   },
   {
    "duration": 0,
    "start_time": "2023-05-15T13:29:15.435Z"
   },
   {
    "duration": 0,
    "start_time": "2023-05-15T13:29:15.436Z"
   },
   {
    "duration": 0,
    "start_time": "2023-05-15T13:29:15.437Z"
   },
   {
    "duration": 0,
    "start_time": "2023-05-15T13:29:15.439Z"
   },
   {
    "duration": 0,
    "start_time": "2023-05-15T13:29:15.440Z"
   },
   {
    "duration": 0,
    "start_time": "2023-05-15T13:29:15.441Z"
   },
   {
    "duration": 0,
    "start_time": "2023-05-15T13:29:15.442Z"
   },
   {
    "duration": 0,
    "start_time": "2023-05-15T13:29:15.499Z"
   },
   {
    "duration": 0,
    "start_time": "2023-05-15T13:29:15.499Z"
   },
   {
    "duration": 0,
    "start_time": "2023-05-15T13:29:15.500Z"
   },
   {
    "duration": 0,
    "start_time": "2023-05-15T13:29:15.501Z"
   },
   {
    "duration": 0,
    "start_time": "2023-05-15T13:29:15.501Z"
   },
   {
    "duration": 0,
    "start_time": "2023-05-15T13:29:15.502Z"
   },
   {
    "duration": 0,
    "start_time": "2023-05-15T13:29:15.505Z"
   },
   {
    "duration": 0,
    "start_time": "2023-05-15T13:29:15.507Z"
   },
   {
    "duration": 0,
    "start_time": "2023-05-15T13:29:15.507Z"
   },
   {
    "duration": 0,
    "start_time": "2023-05-15T13:29:15.508Z"
   },
   {
    "duration": 0,
    "start_time": "2023-05-15T13:29:15.509Z"
   },
   {
    "duration": 0,
    "start_time": "2023-05-15T13:29:15.510Z"
   },
   {
    "duration": 1,
    "start_time": "2023-05-15T13:29:15.510Z"
   },
   {
    "duration": 0,
    "start_time": "2023-05-15T13:29:15.511Z"
   },
   {
    "duration": 0,
    "start_time": "2023-05-15T13:29:15.513Z"
   },
   {
    "duration": 0,
    "start_time": "2023-05-15T13:29:15.514Z"
   },
   {
    "duration": 0,
    "start_time": "2023-05-15T13:29:15.515Z"
   },
   {
    "duration": 0,
    "start_time": "2023-05-15T13:29:15.515Z"
   },
   {
    "duration": 0,
    "start_time": "2023-05-15T13:29:15.516Z"
   },
   {
    "duration": 0,
    "start_time": "2023-05-15T13:29:15.517Z"
   },
   {
    "duration": 0,
    "start_time": "2023-05-15T13:29:15.519Z"
   },
   {
    "duration": 0,
    "start_time": "2023-05-15T13:29:15.520Z"
   },
   {
    "duration": 0,
    "start_time": "2023-05-15T13:29:15.522Z"
   },
   {
    "duration": 0,
    "start_time": "2023-05-15T13:29:15.523Z"
   },
   {
    "duration": 0,
    "start_time": "2023-05-15T13:29:15.525Z"
   },
   {
    "duration": 0,
    "start_time": "2023-05-15T13:29:15.526Z"
   },
   {
    "duration": 0,
    "start_time": "2023-05-15T13:29:15.527Z"
   },
   {
    "duration": 0,
    "start_time": "2023-05-15T13:29:15.529Z"
   },
   {
    "duration": 0,
    "start_time": "2023-05-15T13:29:15.530Z"
   },
   {
    "duration": 0,
    "start_time": "2023-05-15T13:29:15.531Z"
   },
   {
    "duration": 0,
    "start_time": "2023-05-15T13:29:15.532Z"
   },
   {
    "duration": 1,
    "start_time": "2023-05-15T13:29:15.533Z"
   },
   {
    "duration": 0,
    "start_time": "2023-05-15T13:29:15.535Z"
   },
   {
    "duration": 0,
    "start_time": "2023-05-15T13:29:15.537Z"
   },
   {
    "duration": 0,
    "start_time": "2023-05-15T13:29:15.538Z"
   },
   {
    "duration": 64,
    "start_time": "2023-05-15T13:29:54.828Z"
   },
   {
    "duration": 1248,
    "start_time": "2023-05-17T20:15:28.110Z"
   },
   {
    "duration": 5,
    "start_time": "2023-05-17T20:15:29.361Z"
   },
   {
    "duration": 43,
    "start_time": "2023-05-17T20:15:29.371Z"
   },
   {
    "duration": 10,
    "start_time": "2023-05-17T20:15:29.415Z"
   },
   {
    "duration": 66,
    "start_time": "2023-05-17T20:15:29.427Z"
   },
   {
    "duration": 17,
    "start_time": "2023-05-17T20:15:29.498Z"
   },
   {
    "duration": 70,
    "start_time": "2023-05-17T20:15:29.517Z"
   },
   {
    "duration": 10,
    "start_time": "2023-05-17T20:15:29.589Z"
   },
   {
    "duration": 9,
    "start_time": "2023-05-17T20:15:29.602Z"
   },
   {
    "duration": 10,
    "start_time": "2023-05-17T20:15:29.613Z"
   },
   {
    "duration": 13,
    "start_time": "2023-05-17T20:15:29.625Z"
   },
   {
    "duration": 12,
    "start_time": "2023-05-17T20:15:29.640Z"
   },
   {
    "duration": 11,
    "start_time": "2023-05-17T20:15:29.654Z"
   },
   {
    "duration": 33,
    "start_time": "2023-05-17T20:15:29.674Z"
   },
   {
    "duration": 15,
    "start_time": "2023-05-17T20:15:29.709Z"
   },
   {
    "duration": 5,
    "start_time": "2023-05-17T20:15:29.725Z"
   },
   {
    "duration": 5,
    "start_time": "2023-05-17T20:15:29.731Z"
   },
   {
    "duration": 203,
    "start_time": "2023-05-17T20:15:29.738Z"
   },
   {
    "duration": 2,
    "start_time": "2023-05-17T20:15:29.943Z"
   },
   {
    "duration": 179,
    "start_time": "2023-05-17T20:15:29.946Z"
   },
   {
    "duration": 117,
    "start_time": "2023-05-17T20:15:30.126Z"
   },
   {
    "duration": 192,
    "start_time": "2023-05-17T20:15:30.245Z"
   },
   {
    "duration": 2,
    "start_time": "2023-05-17T20:15:30.439Z"
   },
   {
    "duration": 192,
    "start_time": "2023-05-17T20:15:30.443Z"
   },
   {
    "duration": 144,
    "start_time": "2023-05-17T20:15:30.637Z"
   },
   {
    "duration": 8,
    "start_time": "2023-05-17T20:15:30.786Z"
   },
   {
    "duration": 29,
    "start_time": "2023-05-17T20:15:30.795Z"
   },
   {
    "duration": 70,
    "start_time": "2023-05-17T20:15:30.826Z"
   },
   {
    "duration": 28,
    "start_time": "2023-05-17T20:15:30.904Z"
   },
   {
    "duration": 42,
    "start_time": "2023-05-17T20:15:30.933Z"
   },
   {
    "duration": 36,
    "start_time": "2023-05-17T20:15:30.977Z"
   },
   {
    "duration": 42,
    "start_time": "2023-05-17T20:15:31.015Z"
   },
   {
    "duration": 35,
    "start_time": "2023-05-17T20:15:31.059Z"
   },
   {
    "duration": 41,
    "start_time": "2023-05-17T20:15:31.096Z"
   },
   {
    "duration": 38,
    "start_time": "2023-05-17T20:15:31.139Z"
   },
   {
    "duration": 42,
    "start_time": "2023-05-17T20:15:31.181Z"
   },
   {
    "duration": 38,
    "start_time": "2023-05-17T20:15:31.224Z"
   },
   {
    "duration": 25,
    "start_time": "2023-05-17T20:15:31.267Z"
   },
   {
    "duration": 196,
    "start_time": "2023-05-17T20:15:31.294Z"
   },
   {
    "duration": 22,
    "start_time": "2023-05-17T20:15:31.491Z"
   },
   {
    "duration": 153,
    "start_time": "2023-05-17T20:15:31.518Z"
   },
   {
    "duration": 29,
    "start_time": "2023-05-17T20:15:31.675Z"
   },
   {
    "duration": 11,
    "start_time": "2023-05-17T20:15:31.710Z"
   },
   {
    "duration": 73,
    "start_time": "2023-05-17T20:15:31.722Z"
   },
   {
    "duration": 51,
    "start_time": "2023-05-17T20:15:31.798Z"
   },
   {
    "duration": 7,
    "start_time": "2023-05-17T20:15:31.851Z"
   },
   {
    "duration": 23,
    "start_time": "2023-05-17T20:15:31.859Z"
   },
   {
    "duration": 332,
    "start_time": "2023-05-17T20:15:31.884Z"
   },
   {
    "duration": 310,
    "start_time": "2023-05-17T20:15:32.217Z"
   },
   {
    "duration": 6,
    "start_time": "2023-05-17T20:15:32.529Z"
   },
   {
    "duration": 331,
    "start_time": "2023-05-17T20:15:32.536Z"
   },
   {
    "duration": 11,
    "start_time": "2023-05-17T20:15:32.869Z"
   },
   {
    "duration": 355,
    "start_time": "2023-05-17T20:15:32.882Z"
   },
   {
    "duration": 6,
    "start_time": "2023-05-17T20:15:33.238Z"
   },
   {
    "duration": 5,
    "start_time": "2023-05-17T20:15:33.245Z"
   },
   {
    "duration": 312,
    "start_time": "2023-05-17T20:15:33.269Z"
   },
   {
    "duration": 11,
    "start_time": "2023-05-17T20:15:33.593Z"
   },
   {
    "duration": 228,
    "start_time": "2023-05-17T20:15:33.607Z"
   },
   {
    "duration": 6,
    "start_time": "2023-05-17T20:15:33.837Z"
   },
   {
    "duration": 26,
    "start_time": "2023-05-17T20:15:33.844Z"
   },
   {
    "duration": 331,
    "start_time": "2023-05-17T20:15:33.882Z"
   },
   {
    "duration": 6,
    "start_time": "2023-05-17T20:15:34.220Z"
   },
   {
    "duration": 42,
    "start_time": "2023-05-17T20:15:34.227Z"
   },
   {
    "duration": 31,
    "start_time": "2023-05-17T20:15:34.283Z"
   },
   {
    "duration": 9,
    "start_time": "2023-05-17T20:15:34.317Z"
   },
   {
    "duration": 21,
    "start_time": "2023-05-17T20:15:34.328Z"
   },
   {
    "duration": 23,
    "start_time": "2023-05-17T20:15:34.351Z"
   },
   {
    "duration": 21,
    "start_time": "2023-05-17T20:15:34.379Z"
   },
   {
    "duration": 21,
    "start_time": "2023-05-17T20:15:34.402Z"
   },
   {
    "duration": 14,
    "start_time": "2023-05-17T20:15:34.426Z"
   },
   {
    "duration": 12,
    "start_time": "2023-05-17T20:15:34.441Z"
   },
   {
    "duration": 11,
    "start_time": "2023-05-17T20:15:34.455Z"
   },
   {
    "duration": 26,
    "start_time": "2023-05-17T20:15:34.470Z"
   },
   {
    "duration": 19,
    "start_time": "2023-05-17T20:15:34.498Z"
   },
   {
    "duration": 47,
    "start_time": "2023-05-17T20:15:34.519Z"
   },
   {
    "duration": 6,
    "start_time": "2023-05-17T20:15:34.567Z"
   },
   {
    "duration": 17,
    "start_time": "2023-05-17T20:15:34.575Z"
   },
   {
    "duration": 8,
    "start_time": "2023-05-17T20:15:34.593Z"
   },
   {
    "duration": 10,
    "start_time": "2023-05-17T20:15:34.603Z"
   },
   {
    "duration": 6,
    "start_time": "2023-05-17T20:15:34.615Z"
   },
   {
    "duration": 5,
    "start_time": "2023-05-17T20:15:34.622Z"
   },
   {
    "duration": 10,
    "start_time": "2023-05-17T20:15:34.628Z"
   },
   {
    "duration": 6,
    "start_time": "2023-05-17T20:15:34.639Z"
   },
   {
    "duration": 23,
    "start_time": "2023-05-17T20:15:34.646Z"
   },
   {
    "duration": 11,
    "start_time": "2023-05-17T20:15:34.671Z"
   },
   {
    "duration": 26,
    "start_time": "2023-05-17T20:15:34.684Z"
   },
   {
    "duration": 17,
    "start_time": "2023-05-17T20:15:34.712Z"
   },
   {
    "duration": 8,
    "start_time": "2023-05-17T20:15:34.730Z"
   },
   {
    "duration": 64,
    "start_time": "2023-05-17T20:15:34.740Z"
   },
   {
    "duration": 4,
    "start_time": "2023-05-17T20:15:34.808Z"
   },
   {
    "duration": 18,
    "start_time": "2023-05-17T20:15:34.813Z"
   },
   {
    "duration": 6,
    "start_time": "2023-05-17T20:15:34.832Z"
   },
   {
    "duration": 6,
    "start_time": "2023-05-17T20:20:10.423Z"
   },
   {
    "duration": 65,
    "start_time": "2023-05-18T10:10:42.104Z"
   },
   {
    "duration": 1518,
    "start_time": "2023-05-18T10:10:53.346Z"
   },
   {
    "duration": 3,
    "start_time": "2023-05-18T10:10:54.867Z"
   },
   {
    "duration": 155,
    "start_time": "2023-05-18T10:10:54.872Z"
   },
   {
    "duration": 21,
    "start_time": "2023-05-18T10:10:55.034Z"
   },
   {
    "duration": 89,
    "start_time": "2023-05-18T10:10:55.057Z"
   },
   {
    "duration": 40,
    "start_time": "2023-05-18T10:10:55.148Z"
   },
   {
    "duration": 212,
    "start_time": "2023-05-18T10:10:55.191Z"
   },
   {
    "duration": 27,
    "start_time": "2023-05-18T10:10:55.406Z"
   },
   {
    "duration": 18,
    "start_time": "2023-05-18T10:10:55.434Z"
   },
   {
    "duration": 50,
    "start_time": "2023-05-18T10:10:55.455Z"
   },
   {
    "duration": 29,
    "start_time": "2023-05-18T10:10:55.518Z"
   },
   {
    "duration": 17,
    "start_time": "2023-05-18T10:10:55.549Z"
   },
   {
    "duration": 39,
    "start_time": "2023-05-18T10:10:55.573Z"
   },
   {
    "duration": 42,
    "start_time": "2023-05-18T10:10:55.620Z"
   },
   {
    "duration": 26,
    "start_time": "2023-05-18T10:10:55.664Z"
   },
   {
    "duration": 18,
    "start_time": "2023-05-18T10:10:55.691Z"
   },
   {
    "duration": 28,
    "start_time": "2023-05-18T10:10:55.715Z"
   },
   {
    "duration": 315,
    "start_time": "2023-05-18T10:10:55.745Z"
   },
   {
    "duration": 3,
    "start_time": "2023-05-18T10:10:56.062Z"
   },
   {
    "duration": 293,
    "start_time": "2023-05-18T10:10:56.068Z"
   },
   {
    "duration": 160,
    "start_time": "2023-05-18T10:10:56.362Z"
   },
   {
    "duration": 216,
    "start_time": "2023-05-18T10:10:56.531Z"
   },
   {
    "duration": 3,
    "start_time": "2023-05-18T10:10:56.749Z"
   },
   {
    "duration": 197,
    "start_time": "2023-05-18T10:10:56.753Z"
   },
   {
    "duration": 162,
    "start_time": "2023-05-18T10:10:56.952Z"
   },
   {
    "duration": 7,
    "start_time": "2023-05-18T10:10:57.120Z"
   },
   {
    "duration": 4,
    "start_time": "2023-05-18T10:10:57.129Z"
   },
   {
    "duration": 7,
    "start_time": "2023-05-18T10:10:57.135Z"
   },
   {
    "duration": 15,
    "start_time": "2023-05-18T10:10:57.144Z"
   },
   {
    "duration": 35,
    "start_time": "2023-05-18T10:10:57.162Z"
   },
   {
    "duration": 28,
    "start_time": "2023-05-18T10:10:57.199Z"
   },
   {
    "duration": 5,
    "start_time": "2023-05-18T10:10:57.230Z"
   },
   {
    "duration": 14,
    "start_time": "2023-05-18T10:10:57.238Z"
   },
   {
    "duration": 10,
    "start_time": "2023-05-18T10:10:57.255Z"
   },
   {
    "duration": 34,
    "start_time": "2023-05-18T10:10:57.266Z"
   },
   {
    "duration": 18,
    "start_time": "2023-05-18T10:10:57.311Z"
   },
   {
    "duration": 10,
    "start_time": "2023-05-18T10:10:57.331Z"
   },
   {
    "duration": 31,
    "start_time": "2023-05-18T10:10:57.342Z"
   },
   {
    "duration": 231,
    "start_time": "2023-05-18T10:10:57.375Z"
   },
   {
    "duration": 12,
    "start_time": "2023-05-18T10:10:57.608Z"
   },
   {
    "duration": 182,
    "start_time": "2023-05-18T10:10:57.631Z"
   },
   {
    "duration": 16,
    "start_time": "2023-05-18T10:10:57.815Z"
   },
   {
    "duration": 7,
    "start_time": "2023-05-18T10:10:57.832Z"
   },
   {
    "duration": 6,
    "start_time": "2023-05-18T10:10:57.841Z"
   },
   {
    "duration": 12,
    "start_time": "2023-05-18T10:10:57.849Z"
   },
   {
    "duration": 35,
    "start_time": "2023-05-18T10:10:57.863Z"
   },
   {
    "duration": 20,
    "start_time": "2023-05-18T10:10:57.903Z"
   },
   {
    "duration": 313,
    "start_time": "2023-05-18T10:10:57.925Z"
   },
   {
    "duration": 356,
    "start_time": "2023-05-18T10:10:58.240Z"
   },
   {
    "duration": 12,
    "start_time": "2023-05-18T10:10:58.604Z"
   },
   {
    "duration": 389,
    "start_time": "2023-05-18T10:10:58.622Z"
   },
   {
    "duration": 16,
    "start_time": "2023-05-18T10:10:59.013Z"
   },
   {
    "duration": 347,
    "start_time": "2023-05-18T10:10:59.031Z"
   },
   {
    "duration": 8,
    "start_time": "2023-05-18T10:10:59.380Z"
   },
   {
    "duration": 21,
    "start_time": "2023-05-18T10:10:59.390Z"
   },
   {
    "duration": 306,
    "start_time": "2023-05-18T10:10:59.417Z"
   },
   {
    "duration": 8,
    "start_time": "2023-05-18T10:10:59.726Z"
   },
   {
    "duration": 195,
    "start_time": "2023-05-18T10:10:59.736Z"
   },
   {
    "duration": 6,
    "start_time": "2023-05-18T10:10:59.933Z"
   },
   {
    "duration": 52,
    "start_time": "2023-05-18T10:10:59.941Z"
   },
   {
    "duration": 321,
    "start_time": "2023-05-18T10:11:00.001Z"
   },
   {
    "duration": 5,
    "start_time": "2023-05-18T10:11:00.325Z"
   },
   {
    "duration": 20,
    "start_time": "2023-05-18T10:11:00.332Z"
   },
   {
    "duration": 51,
    "start_time": "2023-05-18T10:11:00.354Z"
   },
   {
    "duration": 40,
    "start_time": "2023-05-18T10:11:00.407Z"
   },
   {
    "duration": 41,
    "start_time": "2023-05-18T10:11:00.449Z"
   },
   {
    "duration": 42,
    "start_time": "2023-05-18T10:11:00.497Z"
   },
   {
    "duration": 80,
    "start_time": "2023-05-18T10:11:00.541Z"
   },
   {
    "duration": 43,
    "start_time": "2023-05-18T10:11:00.623Z"
   },
   {
    "duration": 59,
    "start_time": "2023-05-18T10:11:00.668Z"
   },
   {
    "duration": 24,
    "start_time": "2023-05-18T10:11:00.730Z"
   },
   {
    "duration": 49,
    "start_time": "2023-05-18T10:11:00.756Z"
   },
   {
    "duration": 16,
    "start_time": "2023-05-18T10:11:00.813Z"
   },
   {
    "duration": 22,
    "start_time": "2023-05-18T10:11:00.830Z"
   },
   {
    "duration": 65,
    "start_time": "2023-05-18T10:11:00.853Z"
   },
   {
    "duration": 6,
    "start_time": "2023-05-18T10:11:00.922Z"
   },
   {
    "duration": 61,
    "start_time": "2023-05-18T10:11:00.930Z"
   },
   {
    "duration": 14,
    "start_time": "2023-05-18T10:11:00.996Z"
   },
   {
    "duration": 23,
    "start_time": "2023-05-18T10:11:01.017Z"
   },
   {
    "duration": 26,
    "start_time": "2023-05-18T10:11:01.042Z"
   },
   {
    "duration": 39,
    "start_time": "2023-05-18T10:11:01.070Z"
   },
   {
    "duration": 40,
    "start_time": "2023-05-18T10:11:01.112Z"
   },
   {
    "duration": 55,
    "start_time": "2023-05-18T10:11:01.154Z"
   },
   {
    "duration": 9,
    "start_time": "2023-05-18T10:11:01.213Z"
   },
   {
    "duration": 25,
    "start_time": "2023-05-18T10:11:01.224Z"
   },
   {
    "duration": 42,
    "start_time": "2023-05-18T10:11:01.251Z"
   },
   {
    "duration": 32,
    "start_time": "2023-05-18T10:11:01.295Z"
   },
   {
    "duration": 46,
    "start_time": "2023-05-18T10:11:01.329Z"
   },
   {
    "duration": 75,
    "start_time": "2023-05-18T10:11:01.377Z"
   },
   {
    "duration": 14,
    "start_time": "2023-05-18T10:11:01.454Z"
   },
   {
    "duration": 44,
    "start_time": "2023-05-18T10:11:01.470Z"
   },
   {
    "duration": 70,
    "start_time": "2023-05-18T10:11:01.518Z"
   }
  ],
  "kernelspec": {
   "display_name": "Python 3 (ipykernel)",
   "language": "python",
   "name": "python3"
  },
  "language_info": {
   "codemirror_mode": {
    "name": "ipython",
    "version": 3
   },
   "file_extension": ".py",
   "mimetype": "text/x-python",
   "name": "python",
   "nbconvert_exporter": "python",
   "pygments_lexer": "ipython3",
   "version": "3.10.11"
  },
  "toc": {
   "base_numbering": 1,
   "nav_menu": {},
   "number_sections": true,
   "sideBar": true,
   "skip_h1_title": true,
   "title_cell": "Table of Contents",
   "title_sidebar": "Contents",
   "toc_cell": false,
   "toc_position": {},
   "toc_section_display": true,
   "toc_window_display": false
  },
  "toc-autonumbering": true,
  "toc-showmarkdowntxt": false
 },
 "nbformat": 4,
 "nbformat_minor": 5
}
